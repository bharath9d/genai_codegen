{
    "cells": [
        {
            "cell_type": "code",
            "execution_count": null,
            "metadata": {},
            "outputs": [],
            "source": [
                "# Databricks notebook source\n# MAGIC %md\n# MAGIC # ETL Process for Global World Indicators\n# MAGIC This notebook performs an ETL process on data from Unity Catalog tables, transforming and joining datasets, and writing the results back to a target table.\n\n# COMMAND ----------\n\nimport logging\nfrom pyspark.sql.functions import col, lit, substring, expr\n\n# Configure logging\nlogging.basicConfig(level=logging.INFO)\nlogger = logging.getLogger(__name__)\n\n# COMMAND ----------\n\ntry:\n    # Step 1: Load Data from Unity Catalog Tables\n    logger.info(\"Loading data from Unity Catalog tables.\")\n    global_world_indicators_df = spark.table(\"catalog.source_db.global_world_indicators_2000\")\n    consumer_price_indices_df = spark.table(\"catalog.source_db.ConsumerPriceIndices\")\n\n# COMMAND ----------\n\n    # Step 2: Data Transformation\n    logger.info(\"Starting data transformation process.\")\n\n    # Remove Columns\n    columns_to_drop = [\"UnnecessaryColumn1\", \"UnnecessaryColumn2\"]  # Replace with actual column names\n    global_world_indicators_df = global_world_indicators_df.drop(*columns_to_drop)\n\n    # Change Column Type\n    global_world_indicators_df = global_world_indicators_df.withColumn(\"GDP\", col(\"GDP\").cast(\"double\"))\n\n    # Add Column\n    global_world_indicators_df = global_world_indicators_df.withColumn(\"NewColumn\", lit(\"DefaultValue\"))\n\n    # Rename Column\n    global_world_indicators_df = global_world_indicators_df.withColumnRenamed(\"OldColumnName\", \"NewColumnName\")\n\n    # Filter Operation\n    global_world_indicators_df = global_world_indicators_df.filter(col(\"Year\") > 2000)\n\n    # Aggregate\n    aggregated_df = global_world_indicators_df.groupBy(\"Country/Region\").agg({\"GDP\": \"sum\"})\n\n    # Unpivot\n    unpivoted_df = global_world_indicators_df.selectExpr(\n        \"Country/Region\",\n        \"stack(3, 'GDP', GDP, 'CO2 Emissions', CO2_Emissions, 'Health Exp % GDP', Health_Exp_Percent_GDP) as (Indicator, Value)\"\n    )\n\n# COMMAND ----------\n\n    # Step 3: Custom Calculations\n    logger.info(\"Applying custom calculations.\")\n    global_world_indicators_df = global_world_indicators_df.withColumn(\"Year\", substring(col(\"Year\"), 1, 4))\n\n# COMMAND ----------\n\n    # Step 4: Data Join\n    logger.info(\"Joining data sources.\")\n    joined_df = global_world_indicators_df.join(\n        consumer_price_indices_df,\n        global_world_indicators_df[\"Country/Region\"] == consumer_price_indices_df[\"Country/Region\"],\n        \"inner\"\n    )\n\n# COMMAND ----------\n\n    # Step 5: Output Data Configuration\n    logger.info(\"Writing transformed data to Unity Catalog target table.\")\n    joined_df.write.format(\"delta\").mode(\"overwrite\").saveAsTable(\"catalog.target_db.GlobalIndicators\")\n\n    logger.info(\"ETL process completed successfully.\")\n\nexcept Exception as e:\n    logger.error(\"An error occurred during the ETL process.\", exc_info=True)\n"
            ]
        }
    ],
    "metadata": {
        "kernelspec": {
            "display_name": "Python 3",
            "language": "python",
            "name": "python3"
        },
        "language_info": {
            "codemirror_mode": {
                "name": "ipython",
                "version": 3
            },
            "file_extension": ".py",
            "mimetype": "text/x-python",
            "name": "python",
            "nbconvert_exporter": "python",
            "pygments_lexer": "ipython3",
            "version": "3.x"
        }
    },
    "nbformat": 4,
    "nbformat_minor": 5
}