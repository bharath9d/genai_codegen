{
    "cells": [
        {
            "cell_type": "code",
            "execution_count": null,
            "metadata": {},
            "outputs": [],
            "source": [
                "# Databricks notebook source\n# MAGIC %md\n# MAGIC # Customer 360 Data Processing\n# MAGIC This notebook processes customer data from various sources to create a comprehensive customer profile.\n\n# COMMAND ----------\n\nimport logging\nfrom pyspark.sql.functions import col, count, max, avg, datediff, current_date, when, lit\n\n# Configure logging\nlogging.basicConfig(level=logging.INFO)\nlogger = logging.getLogger(__name__)\n\n# COMMAND ----------\n\ntry:\n    # Step 1: Data Source Configuration\n    logger.info(\"Loading data sources from Unity Catalog tables.\")\n    policy_df = spark.table(\"catalog.db.policy\")\n    claims_df = spark.table(\"catalog.db.claims\")\n    demographics_df = spark.table(\"catalog.db.demographics\")\n    scores_df = spark.table(\"catalog.db.scores\")\n    aiml_insights_df = spark.table(\"catalog.db.aiml_insights\")\n\n# COMMAND ----------\n\n    # Step 2: Data Selection and Filtering\n    logger.info(\"Selecting relevant fields from demographics data.\")\n    selected_demographics_df = demographics_df.select(\n        \"Customer_ID\", \"Customer_Name\", \"Email\", \"Phone_Number\", \"Address\", \"City\", \"State\", \"Postal_Code\",\n        \"Date_of_Birth\", \"Gender\", \"Marital_Status\", \"Occupation\", \"Income_Level\", \"Customer_Segment\"\n    )\n\n# COMMAND ----------\n\n    # Step 3: Data Integration\n    logger.info(\"Joining demographics and policy data.\")\n    joined_df = selected_demographics_df.join(\n        policy_df, selected_demographics_df.Customer_ID == policy_df.customer_id, \"inner\"\n    ).drop(policy_df.customer_id)\n\n    logger.info(\"Joining the result with claims data.\")\n    joined_df = joined_df.join(\n        claims_df, joined_df.policy_id == claims_df.Policy_ID, \"inner\"\n    ).drop(claims_df.Policy_ID)\n\n# COMMAND ----------\n\n    # Step 4: Data Aggregation\n    logger.info(\"Aggregating data to compute metrics.\")\n    aggregated_df = joined_df.groupBy(\"Customer_ID\").agg(\n        count(\"Claim_ID\").alias(\"Total_Claims\"),\n        count(\"policy_id\").alias(\"Policy_Count\"),\n        max(\"Claim_Date\").alias(\"Recent_Claim_Date\"),\n        avg(\"Claim_Amount\").alias(\"Average_Claim_Amount\")\n    )\n\n# COMMAND ----------\n\n    # Step 5: Custom Calculations\n    logger.info(\"Calculating custom metrics.\")\n    final_df = aggregated_df.withColumn(\"Age\", datediff(current_date(), col(\"Date_of_Birth\")) / 365) \\\n        .withColumn(\"Claim_To_Premium_Ratio\", when(col(\"total_premium_paid\") != 0, col(\"Average_Claim_Amount\") / col(\"total_premium_paid\")).otherwise(0)) \\\n        .withColumn(\"Claims_Per_Policy\", when(col(\"Policy_Count\") != 0, col(\"Total_Claims\") / col(\"Policy_Count\")).otherwise(0)) \\\n        .withColumn(\"Retention_Rate\", lit(0.85)) \\\n        .withColumn(\"Cross_Sell_Opportunities\", lit(\"Multi-Policy Discount, Home Coverage Add-on\")) \\\n        .withColumn(\"Upsell_Potential\", lit(\"Premium Vehicle Coverage\"))\n\n# COMMAND ----------\n\n    # Step 6: Comprehensive Data Consolidation\n    logger.info(\"Integrating all data sources into a comprehensive customer profile.\")\n    customer_360_df = final_df.join(scores_df, \"Customer_ID\", \"inner\") \\\n        .join(aiml_insights_df, \"Customer_ID\", \"inner\")\n\n# COMMAND ----------\n\n    # Step 7: Output Generation\n    logger.info(\"Writing the final output to Delta format.\")\n    customer_360_df.write.format(\"delta\").mode(\"overwrite\").saveAsTable(\"catalog.db.customer_360\")\n\nexcept Exception as e:\n    logger.error(f\"An error occurred: {e}\")\n    raise\n"
            ]
        }
    ],
    "metadata": {
        "kernelspec": {
            "display_name": "Python 3",
            "language": "python",
            "name": "python3"
        },
        "language_info": {
            "codemirror_mode": {
                "name": "ipython",
                "version": 3
            },
            "file_extension": ".py",
            "mimetype": "text/x-python",
            "name": "python",
            "nbconvert_exporter": "python",
            "pygments_lexer": "ipython3",
            "version": "3.x"
        }
    },
    "nbformat": 4,
    "nbformat_minor": 5
}