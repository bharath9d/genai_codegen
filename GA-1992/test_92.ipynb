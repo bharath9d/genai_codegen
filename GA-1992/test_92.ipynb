{
    "cells": [
        {
            "cell_type": "code",
            "execution_count": null,
            "metadata": {},
            "outputs": [],
            "source": [
                "# Databricks notebook source\n# MAGIC %md\n# MAGIC # ETL Process for Insurance Data\n# MAGIC This notebook performs an ETL process on insurance data using PySpark. It loads data from Unity Catalog tables, processes it, and writes the results to a Delta table.\n\n# COMMAND ----------\n\nimport logging\nfrom pyspark.sql import functions as F\nfrom pyspark.sql.types import DoubleType, DateType, IntegerType\n\n# Configure logging\nlogging.basicConfig(level=logging.INFO)\nlogger = logging.getLogger(__name__)\n\n# COMMAND ----------\n\ntry:\n    # Load data from Unity Catalog tables\n    logger.info(\"Loading data from Unity Catalog tables...\")\n    policy_df = spark.table(\"catalog.source_db.policydb\")\n    claims_df = spark.table(\"catalog.source_db.claimsdb\")\n    demographics_df = spark.table(\"catalog.source_db.demographicsdb\")\n    scores_df = spark.table(\"catalog.source_db.scores\")\n    aiml_insights_df = spark.table(\"catalog.source_db.aiml_insights\")\n\n# COMMAND ----------\n\n    # Select relevant fields and cast types\n    logger.info(\"Selecting relevant fields and casting types...\")\n    policy_df = policy_df.select(\n        \"policy_id\", \"customer_id\", \"policy_type\", \"policy_status\",\n        F.col(\"policy_start_date\").cast(DateType()), \n        F.col(\"policy_end_date\").cast(DateType()), \n        F.col(\"policy_term\").cast(IntegerType()), \n        F.col(\"policy_premium\").cast(DoubleType()), \n        F.col(\"total_premium_paid\").cast(DoubleType()), \n        \"renewal_status\", \"policy_addons\"\n    )\n\n    claims_df = claims_df.select(\n        \"Claim_ID\", \"Policy_ID\", \n        F.col(\"Claim_Date\").cast(DateType()), \n        \"Claim_Type\", \"Claim_Status\", \n        F.col(\"Claim_Amount\").cast(DoubleType()), \n        F.col(\"Claim_Payout\").cast(DoubleType())\n    )\n\n    demographics_df = demographics_df.select(\n        \"Customer_ID\", \"Customer_Name\", \"Email\", \"Phone_Number\", \"Address\", \n        \"City\", \"State\", \"Postal_Code\", \n        F.col(\"Date_of_Birth\").cast(DateType()), \n        \"Gender\", \"Marital_Status\", \"Occupation\", \"Income_Level\", \"Customer_Segment\"\n    )\n\n# COMMAND ----------\n\n    # Join datasets\n    logger.info(\"Joining datasets...\")\n    joined_df = demographics_df.join(policy_df, demographics_df.Customer_ID == policy_df.customer_id, \"inner\")\n    joined_df = joined_df.join(claims_df, joined_df.policy_id == claims_df.Policy_ID, \"inner\")\n\n# COMMAND ----------\n\n    # Aggregate data\n    logger.info(\"Aggregating data...\")\n    aggregated_df = joined_df.groupBy(\"Customer_ID\").agg(\n        F.count(\"Claim_ID\").alias(\"Total_Claims\"),\n        F.count(\"policy_id\").alias(\"Policy_Count\"),\n        F.max(\"Claim_Date\").alias(\"Recent_Claim_Date\"),\n        F.avg(\"Claim_Amount\").alias(\"Average_Claim_Amount\")\n    )\n\n# COMMAND ----------\n\n    # Join with scores and AIML insights\n    logger.info(\"Joining with scores and AIML insights...\")\n    final_df = aggregated_df.join(scores_df, \"Customer_ID\", \"inner\")\n    final_df = final_df.join(aiml_insights_df, \"Customer_ID\", \"inner\")\n\n# COMMAND ----------\n\n    # Calculate additional fields\n    logger.info(\"Calculating additional fields...\")\n    final_df = final_df.withColumn(\"Age\", F.datediff(F.current_date(), F.col(\"Date_of_Birth\")) / 365)\n    final_df = final_df.withColumn(\"Claim_To_Premium_Ratio\", F.when(F.col(\"total_premium_paid\") != 0, F.col(\"Claim_Amount\") / F.col(\"total_premium_paid\")).otherwise(0))\n    final_df = final_df.withColumn(\"Claims_Per_Policy\", F.when(F.col(\"Policy_Count\") != 0, F.col(\"Total_Claims\") / F.col(\"Policy_Count\")).otherwise(0))\n    final_df = final_df.withColumn(\"Retention_Rate\", F.lit(0.85))\n    final_df = final_df.withColumn(\"Cross_Sell_Opportunities\", F.lit(\"Multi-Policy Discount, Home Coverage Add-on\"))\n    final_df = final_df.withColumn(\"Upsell_Potential\", F.lit(\"Premium Vehicle Coverage\"))\n\n# COMMAND ----------\n\n    # Write the final DataFrame to a Delta table\n    logger.info(\"Writing the final DataFrame to a Delta table...\")\n    final_df.write.format(\"delta\").mode(\"overwrite\").saveAsTable(\"catalog.target_db.customer_360\")\n\n    logger.info(\"ETL process completed successfully.\")\n\nexcept Exception as e:\n    logger.error(\"An error occurred during the ETL process\", exc_info=True)\n"
            ]
        }
    ],
    "metadata": {
        "kernelspec": {
            "display_name": "Python 3",
            "language": "python",
            "name": "python3"
        },
        "language_info": {
            "codemirror_mode": {
                "name": "ipython",
                "version": 3
            },
            "file_extension": ".py",
            "mimetype": "text/x-python",
            "name": "python",
            "nbconvert_exporter": "python",
            "pygments_lexer": "ipython3",
            "version": "3.x"
        }
    },
    "nbformat": 4,
    "nbformat_minor": 5
}