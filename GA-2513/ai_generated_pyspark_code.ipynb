{
    "cells": [
        {
            "cell_type": "code",
            "execution_count": null,
            "metadata": {},
            "outputs": [],
            "source": [
                "# Databricks notebook source\n# MAGIC %md\n# MAGIC # Customer 360 Profile Creation\n# MAGIC This notebook loads data from Unity Catalog tables, processes it, and writes a comprehensive customer profile back to Unity Catalog.\n\n# COMMAND ----------\n\nimport logging\nfrom pyspark.sql.functions import col, when, datediff, current_date, count, avg, max, lit\n\n# Configure logging\nlogging.basicConfig(level=logging.INFO)\nlogger = logging.getLogger(__name__)\n\n# COMMAND ----------\n\n# Assume the Spark session is pre-initialized as 'spark'\n# Load data from Unity Catalog tables\ntry:\n    logger.info(\"Loading data from Unity Catalog tables...\")\n    policy_df = spark.table(\"genai_demo.jnj.policy\")\n    claims_df = spark.table(\"genai_demo.jnj.claims\")\n    demographics_df = spark.table(\"genai_demo.jnj.demographics\")\n    scores_df = spark.table(\"genai_demo.jnj.scores\")\n    aiml_insights_df = spark.table(\"genai_demo.jnj.aiml_insights\")\n    logger.info(\"Data loaded successfully.\")\nexcept Exception as e:\n    logger.error(f\"Error loading data: {e}\")\n    raise\n\n# COMMAND ----------\n\n# Select relevant fields from each dataset\ntry:\n    logger.info(\"Selecting relevant fields from datasets...\")\n    demographics_selected = demographics_df.select(\n        \"Customer_ID\", \"Customer_Name\", \"Email\", \"Phone_Number\", \"Address\", \"City\", \"State\", \"Postal_Code\",\n        \"Date_of_Birth\", \"Gender\", \"Marital_Status\", \"Occupation\", \"Income_Level\", \"Customer_Segment\"\n    )\n    claims_selected = claims_df.select(\n        \"Claim_ID\", \"Policy_ID\", \"Claim_Date\", \"Claim_Type\", \"Claim_Status\", \"Claim_Amount\", \"Claim_Payout\"\n    )\n    policy_selected = policy_df.select(\n        \"policy_id\", \"customer_id\", \"policy_type\", \"policy_status\", \"policy_start_date\", \"policy_end_date\",\n        \"policy_term\", \"policy_premium\", \"total_premium_paid\", \"renewal_status\", \"policy_addons\"\n    )\n    logger.info(\"Field selection completed.\")\nexcept Exception as e:\n    logger.error(f\"Error selecting fields: {e}\")\n    raise\n\n# COMMAND ----------\n\n# Perform joins to integrate datasets based on common identifiers\ntry:\n    logger.info(\"Joining datasets...\")\n    joined_df = demographics_selected.join(\n        policy_selected, demographics_selected.Customer_ID == policy_selected.customer_id, \"inner\"\n    ).join(\n        claims_selected, policy_selected.policy_id == claims_selected.Policy_ID, \"inner\"\n    )\n    logger.info(\"Datasets joined successfully.\")\nexcept Exception as e:\n    logger.error(f\"Error joining datasets: {e}\")\n    raise\n\n# COMMAND ----------\n\n# Compute aggregate metrics\ntry:\n    logger.info(\"Computing aggregate metrics...\")\n    aggregated_df = joined_df.groupBy(\"Customer_ID\").agg(\n        count(\"Claim_ID\").alias(\"Total_Claims\"),\n        count(\"policy_id\").alias(\"Policy_Count\"),\n        max(\"Claim_Date\").alias(\"Recent_Claim_Date\"),\n        avg(\"Claim_Amount\").alias(\"Average_Claim_Amount\")\n    )\n    logger.info(\"Aggregate metrics computed.\")\nexcept Exception as e:\n    logger.error(f\"Error computing aggregate metrics: {e}\")\n    raise\n\n# COMMAND ----------\n\n# Implement custom calculations\ntry:\n    logger.info(\"Implementing custom calculations...\")\n    final_df = aggregated_df.withColumn(\n        \"Age\", datediff(current_date(), col(\"Date_of_Birth\")) / 365\n    ).withColumn(\n        \"Claim_To_Premium_Ratio\", when(col(\"total_premium_paid\") != 0, col(\"Average_Claim_Amount\") / col(\"total_premium_paid\")).otherwise(0)\n    ).withColumn(\n        \"Claims_Per_Policy\", when(col(\"Policy_Count\") != 0, col(\"Total_Claims\") / col(\"Policy_Count\")).otherwise(0)\n    ).withColumn(\n        \"Retention_Rate\", lit(0.85)\n    ).withColumn(\n        \"Cross_Sell_Opportunities\", lit(\"Multi-Policy Discount, Home Coverage Add-on\")\n    ).withColumn(\n        \"Upsell_Potential\", lit(\"Premium Vehicle Coverage\")\n    )\n    logger.info(\"Custom calculations implemented.\")\nexcept Exception as e:\n    logger.error(f\"Error implementing custom calculations: {e}\")\n    raise\n\n# COMMAND ----------\n\n# Combine all data sources into a single, comprehensive customer profile\ntry:\n    logger.info(\"Combining all data sources into a comprehensive customer profile...\")\n    customer_360_df = final_df.join(scores_df, \"Customer_ID\", \"inner\").join(aiml_insights_df, \"Customer_ID\", \"inner\")\n    logger.info(\"Data sources combined successfully.\")\nexcept Exception as e:\n    logger.error(f\"Error combining data sources: {e}\")\n    raise\n\n# COMMAND ----------\n\n# Write the final customer 360 profile to a Unity Catalog table\ntry:\n    logger.info(\"Writing the final customer 360 profile to a Unity Catalog table...\")\n    customer_360_df.write.format(\"delta\").mode(\"overwrite\").saveAsTable(\"genai_demo.jnj.customer_360\")\n    logger.info(\"Customer 360 profile written to Unity Catalog table successfully.\")\nexcept Exception as e:\n    logger.error(f\"Error writing to Unity Catalog table: {e}\")\n    raise\n"
            ]
        }
    ],
    "metadata": {
        "kernelspec": {
            "display_name": "Python 3",
            "language": "python",
            "name": "python3"
        },
        "language_info": {
            "codemirror_mode": {
                "name": "ipython",
                "version": 3
            },
            "file_extension": ".py",
            "mimetype": "text/x-python",
            "name": "python",
            "nbconvert_exporter": "python",
            "pygments_lexer": "ipython3",
            "version": "3.x"
        }
    },
    "nbformat": 4,
    "nbformat_minor": 5
}