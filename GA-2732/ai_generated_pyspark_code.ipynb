{
    "cells": [
        {
            "cell_type": "code",
            "execution_count": null,
            "metadata": {},
            "outputs": [],
            "source": [
                "# Databricks notebook source\n# MAGIC %md\n# MAGIC # ETL Process for Customer 360 View\n# MAGIC This notebook performs an ETL process to create a comprehensive customer 360 view by integrating data from various sources.\n\n# COMMAND ----------\nimport logging\nfrom pyspark.sql import functions as F\nfrom pyspark.sql.types import DoubleType, StringType\nfrom pyspark.sql import DataFrame\n\n# Configure logging\nlogging.basicConfig(level=logging.INFO)\nlogger = logging.getLogger(__name__)\n\ndef cache_df(df: DataFrame, name: str) -> DataFrame:\n    \"\"\"Cache a DataFrame and log its action.\"\"\"\n    logger.info(f\"Caching DataFrame: {name}\")\n    return df.cache()\n\n# COMMAND ----------\ntry:\n    # Step 1: Data Loading\n    logger.info(\"Loading data from Unity Catalog tables.\")\n    policy_df = spark.table(\"genai_demo.jnj.policy\")\n    claims_df = spark.table(\"genai_demo.jnj.claims\")\n    demographics_df = spark.table(\"genai_demo.jnj.demographics\")\n    scores_df = spark.table(\"genai_demo.jnj.scores\")\n    aiml_insights_df = spark.table(\"genai_demo.jnj.aiml_insights\")\n\n# COMMAND ----------\n    # Step 2: Data Selection\n    logger.info(\"Selecting relevant fields from demographics and claims data.\")\n    selected_demographics_df = demographics_df.select(\n        \"Customer_ID\", \"Customer_Name\", \"Email\", \"Phone_Number\", \"Address\", \"City\", \n        \"State\", \"Postal_Code\", \"Date_of_Birth\", \"Gender\", \"Marital_Status\", \n        \"Occupation\", \"Income_Level\", \"Customer_Segment\"\n    )\n\n    selected_claims_df = claims_df.select(\n        \"Claim_ID\", \"Policy_ID\", \"Claim_Date\", \"Claim_Type\", \"Claim_Status\", \n        \"Claim_Amount\", \"Claim_Payout\"\n    )\n\n# COMMAND ----------\n    # Step 3: Data Integration\n    logger.info(\"Joining datasets based on common identifiers.\")\n    joined_df = selected_demographics_df.join(policy_df, \"Customer_ID\") \\\n        .join(selected_claims_df, \"Policy_ID\")\n    joined_df = cache_df(joined_df, \"joined_df\")\n\n# COMMAND ----------\n    # Step 4: Data Aggregation\n    logger.info(\"Computing aggregate metrics.\")\n    aggregated_df = joined_df.groupBy(\"Customer_ID\").agg(\n        F.count(\"Claim_ID\").alias(\"Total_Claims\"),\n        F.count(\"Policy_ID\").alias(\"Policy_Count\"),\n        F.max(\"Claim_Date\").alias(\"Recent_Claim_Date\"),\n        F.avg(\"Claim_Amount\").alias(\"Average_Claim_Amount\")\n    )\n\n# COMMAND ----------\n    # Step 5: Custom Calculations\n    logger.info(\"Implementing custom calculations for additional metrics.\")\n    final_df = aggregated_df.withColumn(\n        \"Age\", F.datediff(F.current_date(), F.col(\"Date_of_Birth\")) / 365\n    ).withColumn(\n        \"Claim_To_Premium_Ratio\", F.when(F.col(\"Total_Premium_Paid\") != 0, F.col(\"Claim_Amount\") / F.col(\"Total_Premium_Paid\")).otherwise(0)\n    ).withColumn(\n        \"Claims_Per_Policy\", F.when(F.col(\"Policy_Count\") != 0, F.col(\"Total_Claims\") / F.col(\"Policy_Count\")).otherwise(0)\n    ).withColumn(\n        \"Retention_Rate\", F.lit(0.85).cast(DoubleType())\n    ).withColumn(\n        \"Cross_Sell_Opportunities\", F.lit(\"Multi-Policy Discount, Home Coverage Add-on\").cast(StringType())\n    ).withColumn(\n        \"Upsell_Potential\", F.lit(\"Premium Vehicle Coverage\").cast(StringType())\n    )\n\n# COMMAND ----------\n    # Step 6: Comprehensive Data Joining\n    logger.info(\"Integrating additional insights from AI/ML and scores data.\")\n    customer_360_df = final_df.join(scores_df, \"Customer_ID\") \\\n        .join(aiml_insights_df, \"Customer_ID\")\n\n# COMMAND ----------\n    # Step 7: Output Data\n    logger.info(\"Writing the final customer 360 data to a Unity Catalog table.\")\n    customer_360_df.write.format(\"delta\").mode(\"overwrite\").saveAsTable(\"genai_demo.jnj.customer_360_view\")\n\n    logger.info(\"ETL process completed successfully.\")\n\nexcept Exception as e:\n    logger.error(\"An error occurred during the ETL process.\", exc_info=True)\n"
            ]
        }
    ],
    "metadata": {
        "kernelspec": {
            "display_name": "Python 3",
            "language": "python",
            "name": "python3"
        },
        "language_info": {
            "codemirror_mode": {
                "name": "ipython",
                "version": 3
            },
            "file_extension": ".py",
            "mimetype": "text/x-python",
            "name": "python",
            "nbconvert_exporter": "python",
            "pygments_lexer": "ipython3",
            "version": "3.x"
        }
    },
    "nbformat": 4,
    "nbformat_minor": 5
}