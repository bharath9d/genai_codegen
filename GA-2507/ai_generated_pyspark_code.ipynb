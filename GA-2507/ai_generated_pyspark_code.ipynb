{
    "cells": [
        {
            "cell_type": "code",
            "execution_count": null,
            "metadata": {},
            "outputs": [],
            "source": [
                "# Databricks notebook source\n# Import necessary libraries\nimport logging\nfrom pyspark.sql import functions as F\nfrom pyspark.sql import DataFrame\n\n# COMMAND ----------\n\n# Configure logging\nlogging.basicConfig(level=logging.INFO)\nlogger = logging.getLogger(__name__)\n\n# COMMAND ----------\n\n# Function to load data from Unity Catalog tables\ndef load_data(table_name: str) -> DataFrame:\n    try:\n        logger.info(f\"Loading data from table: {table_name}\")\n        df = spark.table(table_name)\n        return df\n    except Exception as e:\n        logger.error(f\"Error loading data from table {table_name}: {e}\")\n        raise\n\n# COMMAND ----------\n\n# Load data from Unity Catalog tables\nassociates_df = load_data(\"genai_demo.cardinal_health.associates_employment\")\ncompensation_df = load_data(\"genai_demo.cardinal_health.compensation_guidelines\")\nhospital_assignments_df = load_data(\"genai_demo.cardinal_health.hospital_assignments\")\nhospitals_df = load_data(\"genai_demo.cardinal_health.hospitals_stats\")\nhistorical_sales_df = load_data(\"genai_demo.cardinal_health.historical_sales_trending\")\ngrowth_opportunities_df = load_data(\"genai_demo.cardinal_health.growth_opportunities\")\nlogistics_channels_df = load_data(\"genai_demo.cardinal_health.logistics_channels\")\nthird_party_trends_df = load_data(\"genai_demo.cardinal_health.third_party_trends\")\ncompany_goals_df = load_data(\"genai_demo.cardinal_health.company_goals_1\")\n\n# COMMAND ----------\n\n# Data Integration: Join associates with compensation\ntry:\n    logger.info(\"Joining associates with compensation data\")\n    associates_compensation_df = associates_df.join(compensation_df, \"Associate_ID\")\nexcept Exception as e:\n    logger.error(f\"Error joining associates with compensation: {e}\")\n    raise\n\n# COMMAND ----------\n\n# Data Integration: Join hospital data with assignments\ntry:\n    logger.info(\"Joining hospital data with assignments\")\n    hospital_assignments_df = hospital_assignments_df.join(hospitals_df, [\"Hospital_ID\", \"Hospital_Name\"])\nexcept Exception as e:\n    logger.error(f\"Error joining hospital data with assignments: {e}\")\n    raise\n\n# COMMAND ----------\n\n# Custom Calculations: Calculate total compensation\ntry:\n    logger.info(\"Calculating total compensation for associates\")\n    associates_compensation_df = associates_compensation_df.withColumn(\n        \"Total_Compensation\",\n        F.col(\"Base_Salary\") + (F.col(\"Commission_Percentage\") * F.col(\"Base_Salary\")) + F.col(\"Bonus\")\n    )\nexcept Exception as e:\n    logger.error(f\"Error calculating total compensation: {e}\")\n    raise\n\n# COMMAND ----------\n\n# Custom Calculations: Calculate projected revenue\ntry:\n    logger.info(\"Calculating projected revenue\")\n    historical_sales_df = historical_sales_df.withColumn(\n        \"Projected_Revenue\",\n        F.when(F.col(\"Target_Year\") == 2024, F.col(\"Sales_Revenue\") * (F.col(\"Projected_Sales_Growth_Rate\") / 100))\n        .when(F.col(\"Target_Year\").isin([2025, 2026]), F.col(\"Sales_Revenue\") * (1 + F.col(\"Projected_Sales_Growth_Rate\") / 100))\n        .otherwise(F.col(\"Sales_Revenue\"))\n    )\nexcept Exception as e:\n    logger.error(f\"Error calculating projected revenue: {e}\")\n    raise\n\n# COMMAND ----------\n\n# Data Filtering and Sorting\ntry:\n    logger.info(\"Filtering and sorting data\")\n    filtered_df = historical_sales_df.filter(F.col(\"Target_Year\") > 2023)\n    sorted_df = filtered_df.orderBy(\"Target_Year\")\nexcept Exception as e:\n    logger.error(f\"Error filtering and sorting data: {e}\")\n    raise\n\n# COMMAND ----------\n\n# Data Validation and Uniqueness\ntry:\n    logger.info(\"Ensuring data uniqueness\")\n    unique_df = sorted_df.dropDuplicates([\"Channel_ID\", \"Channel_Type\", \"Hospital_ID\"])\nexcept Exception as e:\n    logger.error(f\"Error ensuring data uniqueness: {e}\")\n    raise\n\n# COMMAND ----------\n\n# Output Data Storage\ntry:\n    logger.info(\"Writing processed data to Unity Catalog table\")\n    unique_df.write.format(\"delta\").mode(\"overwrite\").saveAsTable(\"genai_demo.cardinal_health.hospitals_output\")\nexcept Exception as e:\n    logger.error(f\"Error writing data to Unity Catalog table: {e}\")\n    raise\n\n# COMMAND ----------\n\nlogger.info(\"ETL process completed successfully\")\n"
            ]
        }
    ],
    "metadata": {
        "kernelspec": {
            "display_name": "Python 3",
            "language": "python",
            "name": "python3"
        },
        "language_info": {
            "codemirror_mode": {
                "name": "ipython",
                "version": 3
            },
            "file_extension": ".py",
            "mimetype": "text/x-python",
            "name": "python",
            "nbconvert_exporter": "python",
            "pygments_lexer": "ipython3",
            "version": "3.x"
        }
    },
    "nbformat": 4,
    "nbformat_minor": 5
}