{
    "cells": [
        {
            "cell_type": "code",
            "execution_count": null,
            "metadata": {},
            "outputs": [],
            "source": [
                "# Databricks notebook source\n# MAGIC %md\n# MAGIC # ETL Process for Customer 360 View\n# MAGIC This notebook performs an ETL process to create a comprehensive Customer 360 view using data from Unity Catalog tables.\n\n# COMMAND ----------\nimport logging\nfrom pyspark.sql.functions import count, avg, max, datediff, current_date, when, lit, col\nfrom pyspark.sql import DataFrame\n\n# Initialize logging\nlogging.basicConfig(level=logging.INFO)\nlogger = logging.getLogger(__name__)\n\ndef cache_dataframe(df: DataFrame, name: str) -> DataFrame:\n    \"\"\"Cache a DataFrame and log the action.\"\"\"\n    logger.info(f\"Caching DataFrame: {name}\")\n    return df.cache()\n\n# COMMAND ----------\ntry:\n    # Load data from Unity Catalog tables\n    logger.info(\"Loading data from Unity Catalog tables...\")\n    policy_df = spark.table(\"genai_demo.jnj.policy\")\n    claims_df = spark.table(\"genai_demo.jnj.claims\")\n    demographics_df = spark.table(\"genai_demo.jnj.demographics\")\n    scores_df = spark.table(\"genai_demo.jnj.scores\")\n    aiml_insights_df = spark.table(\"genai_demo.jnj.aiml_insights\")\n\n# COMMAND ----------\n    # Data Selection and Filtering\n    logger.info(\"Selecting relevant fields from datasets...\")\n    selected_demographics_df = demographics_df.select(\n        \"Customer_ID\", \"Customer_Name\", \"Email\", \"Phone_Number\", \"Address\", \n        \"City\", \"State\", \"Postal_Code\", \"Date_of_Birth\", \"Gender\", \n        \"Marital_Status\", \"Occupation\", \"Income_Level\", \"Customer_Segment\"\n    )\n\n    selected_claims_df = claims_df.select(\n        \"Claim_ID\", \"Policy_ID\", \"Claim_Date\", \"Claim_Type\", \n        \"Claim_Status\", \"Claim_Amount\", \"Claim_Payout\"\n    )\n\n# COMMAND ----------\n    # Data Integration\n    logger.info(\"Integrating datasets...\")\n    demographics_policy_df = selected_demographics_df.join(\n        policy_df, \"Customer_ID\", \"inner\"\n    )\n    demographics_policy_df = cache_dataframe(demographics_policy_df, \"demographics_policy_df\")\n\n    # Check for duplicate columns in join\n    integrated_df = demographics_policy_df.join(\n        selected_claims_df, \"Policy_ID\", \"inner\"\n    ).drop(selected_claims_df[\"Policy_ID\"])\n\n# COMMAND ----------\n    # Data Aggregation\n    logger.info(\"Aggregating data...\")\n    aggregated_df = integrated_df.groupBy(\"Customer_ID\").agg(\n        count(\"Claim_ID\").alias(\"Total_Claims\"),\n        count(\"Policy_ID\").alias(\"Policy_Count\"),\n        max(\"Claim_Date\").alias(\"Recent_Claim_Date\"),\n        avg(\"Claim_Amount\").alias(\"Average_Claim_Amount\")\n    )\n    aggregated_df = cache_dataframe(aggregated_df, \"aggregated_df\")\n\n# COMMAND ----------\n    # Custom Calculations\n    logger.info(\"Performing custom calculations...\")\n    final_df = aggregated_df.join(demographics_policy_df, \"Customer_ID\", \"inner\").withColumn(\n        \"Age\", datediff(current_date(), \"Date_of_Birth\") / 365\n    ).withColumn(\n        \"Claim_To_Premium_Ratio\", when(\n            col(\"Total_Premium_Paid\") != 0, \n            col(\"Claim_Amount\") / col(\"Total_Premium_Paid\")\n        ).otherwise(0)\n    ).withColumn(\n        \"Claims_Per_Policy\", when(\n            col(\"Policy_Count\") != 0, \n            col(\"Total_Claims\") / col(\"Policy_Count\")\n        ).otherwise(0)\n    ).withColumn(\n        \"Retention_Rate\", lit(0.85)\n    ).withColumn(\n        \"Cross_Sell_Opportunities\", lit(\"Multi-Policy Discount, Home Coverage Add-on\")\n    ).withColumn(\n        \"Upsell_Potential\", lit(\"Premium Vehicle Coverage\")\n    )\n\n# COMMAND ----------\n    # Comprehensive Data Consolidation\n    logger.info(\"Consolidating data with AI/ML insights and scores...\")\n    customer_360_df = final_df.join(\n        broadcast(scores_df), \"Customer_ID\", \"inner\"\n    ).join(\n        broadcast(aiml_insights_df), \"Customer_ID\", \"inner\"\n    )\n\n# COMMAND ----------\n    # Output to Customer 360 View\n    logger.info(\"Writing final DataFrame to Unity Catalog table...\")\n    customer_360_df.write.format(\"delta\").mode(\"overwrite\").saveAsTable(\"genai_demo.jnj.customer_360_view\")\n\n    logger.info(\"ETL process completed successfully.\")\n\nexcept Exception as e:\n    logger.error(\"An error occurred during the ETL process\", exc_info=True)\n"
            ]
        }
    ],
    "metadata": {
        "kernelspec": {
            "display_name": "Python 3",
            "language": "python",
            "name": "python3"
        },
        "language_info": {
            "codemirror_mode": {
                "name": "ipython",
                "version": 3
            },
            "file_extension": ".py",
            "mimetype": "text/x-python",
            "name": "python",
            "nbconvert_exporter": "python",
            "pygments_lexer": "ipython3",
            "version": "3.x"
        }
    },
    "nbformat": 4,
    "nbformat_minor": 5
}