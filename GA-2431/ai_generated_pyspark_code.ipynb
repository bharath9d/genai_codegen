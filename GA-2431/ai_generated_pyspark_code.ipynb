{
    "cells": [
        {
            "cell_type": "code",
            "execution_count": null,
            "metadata": {},
            "outputs": [],
            "source": [
                "# Databricks notebook source\n# MAGIC %md\n# MAGIC # Customer 360 Data Processing\n# MAGIC This notebook processes customer data from Unity Catalog tables to generate a comprehensive customer profile.\n\n# COMMAND ----------\n\nimport logging\nfrom pyspark.sql import functions as F\nfrom pyspark.sql.utils import AnalysisException\n\n# Configure logging\nlogging.basicConfig(level=logging.INFO)\nlogger = logging.getLogger(__name__)\n\n# COMMAND ----------\n\ntry:\n    # Step 1: Data Selection and Filtering\n    logger.info(\"Loading and filtering data from Unity Catalog tables.\")\n    \n    demographics_df = spark.table(\"genai_demo.jnj.demographics\").select(\n        \"Customer_ID\", \"Customer_Name\", \"Email\", \"Phone_Number\", \"Address\", \"City\",\n        \"State\", \"Postal_Code\", \"Date_of_Birth\", \"Gender\", \"Marital_Status\",\n        \"Occupation\", \"Income_Level\", \"Customer_Segment\"\n    )\n\n    claims_df = spark.table(\"genai_demo.jnj.claims\").select(\n        \"Claim_ID\", \"Policy_ID\", \"Claim_Date\", \"Claim_Type\", \"Claim_Status\",\n        \"Claim_Amount\", \"Claim_Payout\"\n    )\n\n    policy_df = spark.table(\"genai_demo.jnj.policy\").select(\n        \"policy_id\", \"customer_id\", \"policy_type\", \"policy_status\", \"policy_start_date\",\n        \"policy_end_date\", \"policy_term\", \"policy_premium\", \"total_premium_paid\",\n        \"renewal_status\", \"policy_addons\"\n    )\n\n# COMMAND ----------\n\n    # Step 2: Data Integration\n    logger.info(\"Joining demographics and policy data on Customer_ID.\")\n    customer_policy_df = demographics_df.join(\n        policy_df, demographics_df.Customer_ID == policy_df.customer_id, \"inner\"\n    ).drop(policy_df.customer_id)\n\n    logger.info(\"Joining the result with claims data on Policy_ID.\")\n    integrated_df = customer_policy_df.join(\n        claims_df, customer_policy_df.policy_id == claims_df.Policy_ID, \"inner\"\n    ).drop(claims_df.Policy_ID)\n\n# COMMAND ----------\n\n    # Step 3: Data Aggregation\n    logger.info(\"Aggregating claims data.\")\n    aggregated_df = integrated_df.groupBy(\"Customer_ID\").agg(\n        F.count(\"Claim_ID\").alias(\"Total_Claims\"),\n        F.count(\"policy_id\").alias(\"Policy_Count\"),\n        F.max(\"Claim_Date\").alias(\"Recent_Claim_Date\"),\n        F.avg(\"Claim_Amount\").alias(\"Average_Claim_Amount\")\n    )\n\n# COMMAND ----------\n\n    # Step 4: Custom Calculations\n    logger.info(\"Performing custom calculations.\")\n    final_df = aggregated_df.withColumn(\n        \"Age\", F.datediff(F.current_date(), F.col(\"Date_of_Birth\")) / 365\n    ).withColumn(\n        \"Claim_To_Premium_Ratio\", F.when(F.col(\"total_premium_paid\") != 0, F.col(\"Claim_Amount\") / F.col(\"total_premium_paid\")).otherwise(0)\n    ).withColumn(\n        \"Claims_Per_Policy\", F.when(F.col(\"Policy_Count\") != 0, F.col(\"Total_Claims\") / F.col(\"Policy_Count\")).otherwise(0)\n    ).withColumn(\n        \"Retention_Rate\", F.lit(0.85)\n    ).withColumn(\n        \"Cross_Sell_Opportunities\", F.lit(\"Multi-Policy Discount, Home Coverage Add-on\")\n    ).withColumn(\n        \"Upsell_Potential\", F.lit(\"Premium Vehicle Coverage\")\n    )\n\n# COMMAND ----------\n\n    # Step 5: Comprehensive Data Consolidation\n    logger.info(\"Loading additional data sources and joining them.\")\n    scores_df = spark.table(\"genai_demo.jnj.scores\")\n    aiml_insights_df = spark.table(\"genai_demo.jnj.aiml_insights\")\n\n    customer_360_df = final_df.join(scores_df, \"Customer_ID\", \"inner\").join(\n        aiml_insights_df, \"Customer_ID\", \"inner\"\n    )\n\n# COMMAND ----------\n\n    # Step 6: Output Generation\n    logger.info(\"Writing the consolidated customer profile to CSV.\")\n    customer_360_df.write.csv(\"/mnt/dataeconomy/Customer_360.csv\", header=True)\n\nexcept AnalysisException as e:\n    logger.error(f\"AnalysisException occurred: {e}\")\nexcept Exception as e:\n    logger.error(f\"An unexpected error occurred: {e}\")\n"
            ]
        }
    ],
    "metadata": {
        "kernelspec": {
            "display_name": "Python 3",
            "language": "python",
            "name": "python3"
        },
        "language_info": {
            "codemirror_mode": {
                "name": "ipython",
                "version": 3
            },
            "file_extension": ".py",
            "mimetype": "text/x-python",
            "name": "python",
            "nbconvert_exporter": "python",
            "pygments_lexer": "ipython3",
            "version": "3.x"
        }
    },
    "nbformat": 4,
    "nbformat_minor": 5
}