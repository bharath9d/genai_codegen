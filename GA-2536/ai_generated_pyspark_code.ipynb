{
    "cells": [
        {
            "cell_type": "code",
            "execution_count": null,
            "metadata": {},
            "outputs": [],
            "source": [
                "# Databricks notebook source\n# MAGIC %md\n# MAGIC # ETL Process for Cardinal Health Data\n# MAGIC This notebook performs an ETL process on data from Unity Catalog tables, including data loading, transformations, and writing the final DataFrame back to Unity Catalog.\n\n# COMMAND ----------\n\nimport logging\nfrom pyspark.sql.functions import col, expr, when\nfrom pyspark.sql.types import DoubleType\n\n# COMMAND ----------\n\n# MAGIC %md\n# MAGIC ## Configure Logging\n# MAGIC Set up logging to capture information about the ETL process.\n\n# COMMAND ----------\n\nlogging.basicConfig(level=logging.INFO)\nlogger = logging.getLogger(__name__)\n\n# COMMAND ----------\n\n# MAGIC %md\n# MAGIC ## Load Data from Unity Catalog\n# MAGIC Load data from various Unity Catalog tables into DataFrames.\n\n# COMMAND ----------\n\ntry:\n    logger.info(\"Loading data from Unity Catalog tables...\")\n    associates_df = spark.table(\"genai_demo.cardinal_health.associates_employment\")\n    compensation_df = spark.table(\"genai_demo.cardinal_health.compensation_guidelines\")\n    hospitals_df = spark.table(\"genai_demo.cardinal_health.hospitals_stats\")\n    assignments_df = spark.table(\"genai_demo.cardinal_health.hospital_assignments\")\n    logistics_df = spark.table(\"genai_demo.cardinal_health.logistics_channels\")\n    growth_df = spark.table(\"genai_demo.cardinal_health.growth_opportunities\")\n    historical_sales_df = spark.table(\"genai_demo.cardinal_health.historical_sales_trending\")\n\n# COMMAND ----------\n\n# MAGIC %md\n# MAGIC ## Perform Join Operations\n# MAGIC Join the loaded DataFrames to create a unified dataset.\n\n# COMMAND ----------\n\n    logger.info(\"Performing join operations...\")\n    joined_df_4 = associates_df.join(compensation_df, \"Associate_ID\", \"inner\")\n    joined_df_6 = hospitals_df.join(assignments_df, [\"Hospital_ID\", \"Hospital_Name\"], \"inner\")\n    joined_df_7 = joined_df_4.join(joined_df_6, [\"Associate_ID\", \"Associate_Name\"], \"inner\") \\\n                             .drop(\"Associate_ID\", \"Associate_Name\")\n    joined_df_12 = logistics_df.join(growth_df, [\"Channel_ID\", \"Channel_Type\"], \"inner\")\n    joined_df_13 = joined_df_12.join(hospitals_df, \"Hospital_ID\", \"inner\") \\\n                               .drop(\"Hospital_ID\")\n\n# COMMAND ----------\n\n# MAGIC %md\n# MAGIC ## Perform Custom Calculations\n# MAGIC Add calculated columns to the DataFrames for further analysis.\n\n# COMMAND ----------\n\n    logger.info(\"Performing custom calculations...\")\n    joined_df_4 = joined_df_4.withColumn(\"Compensation\", \n                                         col(\"Base_Salary\") + \n                                         (col(\"Commission_Percentage\") / 100) * col(\"Base_Salary\") + \n                                         col(\"Bonus\"))\n\n    historical_sales_df = historical_sales_df.withColumn(\"Projected_Revenue\", \n                                                         when(col(\"Target_Year\") == 2024, col(\"Sales_Revenue\") * (1 + col(\"Projected_Sales_Growth_Rate\") / 100))\n                                                         .when(col(\"Target_Year\") == 2025, col(\"Sales_Revenue\") * (1 + col(\"Projected_Sales_Growth_Rate\") / 100) ** 2)\n                                                         .when(col(\"Target_Year\") == 2026, col(\"Sales_Revenue\") * (1 + col(\"Projected_Sales_Growth_Rate\") / 100) ** 3)\n                                                         .otherwise(col(\"Sales_Revenue\")))\n\n    growth_df = growth_df.withColumn(\"Projected_Sales_Growth_Rate\", \n                                     when(col(\"Target_Year\") == 2024, col(\"Projected_Growth_Rate\"))\n                                     .when(col(\"Target_Year\") == 2025, col(\"Projected_Growth_Rate\") ** 2)\n                                     .when(col(\"Target_Year\") == 2026, col(\"Projected_Growth_Rate\") ** 3)\n                                     .otherwise(col(\"Projected_Growth_Rate\")))\n\n# COMMAND ----------\n\n# MAGIC %md\n# MAGIC ## Write Final DataFrame to Unity Catalog\n# MAGIC Save the final processed DataFrame back to Unity Catalog.\n\n# COMMAND ----------\n\n    logger.info(\"Writing the final DataFrame to Unity Catalog table...\")\n    final_df = joined_df_13  # Assuming joined_df_13 is the final DataFrame after all transformations\n    final_df.write.format(\"delta\").mode(\"overwrite\").saveAsTable(\"genai_demo.cardinal_health.final_processed_data\")\n\n    logger.info(\"ETL process completed successfully.\")\n\nexcept Exception as e:\n    logger.error(\"An error occurred during the ETL process: %s\", str(e))\n    raise\n"
            ]
        }
    ],
    "metadata": {
        "kernelspec": {
            "display_name": "Python 3",
            "language": "python",
            "name": "python3"
        },
        "language_info": {
            "codemirror_mode": {
                "name": "ipython",
                "version": 3
            },
            "file_extension": ".py",
            "mimetype": "text/x-python",
            "name": "python",
            "nbconvert_exporter": "python",
            "pygments_lexer": "ipython3",
            "version": "3.x"
        }
    },
    "nbformat": 4,
    "nbformat_minor": 5
}