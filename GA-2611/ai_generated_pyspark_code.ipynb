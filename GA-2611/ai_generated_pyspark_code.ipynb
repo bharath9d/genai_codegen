{
    "cells": [
        {
            "cell_type": "code",
            "execution_count": null,
            "metadata": {},
            "outputs": [],
            "source": [
                "# Databricks notebook source\nimport logging\nfrom pyspark.sql import functions as F\nfrom pyspark.sql import DataFrame\nfrom pyspark.sql import SparkSession\n\n# Configure logging\nlogging.basicConfig(level=logging.INFO)\nlogger = logging.getLogger(__name__)\n\n# COMMAND ----------\n\ndef load_data_from_unity_catalog(table_name: str) -> DataFrame:\n    \"\"\"Load data from a Unity Catalog table.\"\"\"\n    try:\n        logger.info(f\"Loading data from table: {table_name}\")\n        df = spark.table(table_name)\n        return df\n    except Exception as e:\n        logger.error(f\"Error loading data from table {table_name}: {e}\")\n        raise\n\n# COMMAND ----------\n\ndef calculate_total_compensation(df: DataFrame) -> DataFrame:\n    \"\"\"Calculate total compensation for associates.\"\"\"\n    try:\n        logger.info(\"Calculating total compensation\")\n        df = df.withColumn(\n            \"Compensation\",\n            df[\"Base_Salary\"] +\n            (df[\"Commission_Percentage\"] / 100) * df[\"Base_Salary\"] +\n            df[\"Bonus\"]\n        )\n        return df\n    except Exception as e:\n        logger.error(f\"Error calculating total compensation: {e}\")\n        raise\n\n# COMMAND ----------\n\ndef calculate_projected_sales_growth_rate(df: DataFrame) -> DataFrame:\n    \"\"\"Calculate projected sales growth rate based on target year.\"\"\"\n    try:\n        logger.info(\"Calculating projected sales growth rate\")\n        df = df.withColumn(\n            \"Projected_Sales_Growth_Rate\",\n            F.when(df[\"Year\"] == 2024, df[\"Projected_Growth_Rate\"] + (df[\"Projected_Growth_Rate\"] / 100))\n            .when(df[\"Year\"] == 2025, df[\"Projected_Growth_Rate\"] + 2 * (df[\"Projected_Growth_Rate\"] / 100))\n            .when(df[\"Year\"] == 2026, df[\"Projected_Growth_Rate\"] + 3 * (df[\"Projected_Growth_Rate\"] / 100))\n            .otherwise(df[\"Projected_Growth_Rate\"])\n        )\n        return df\n    except Exception as e:\n        logger.error(f\"Error calculating projected sales growth rate: {e}\")\n        raise\n\n# COMMAND ----------\n\ndef main():\n    try:\n        # Load data from Unity Catalog tables\n        employment_details_df = load_data_from_unity_catalog(\"genai_demo.cardinal_health.SalesAssociates_EmploymentDetails\")\n        compensation_guidelines_df = load_data_from_unity_catalog(\"genai_demo.cardinal_health.Compensation_Guidelines\")\n        historical_sales_df = load_data_from_unity_catalog(\"genai_demo.cardinal_health.Historical_Sales\")\n        hospital_sales_assignments_df = load_data_from_unity_catalog(\"genai_demo.cardinal_health.HospitalSales_Assignments\")\n        hospital_stats_df = load_data_from_unity_catalog(\"genai_demo.cardinal_health.hospital_stats_north_america\")\n\n        # Join employment details with compensation guidelines\n        logger.info(\"Joining employment details with compensation guidelines\")\n        joined_df = employment_details_df.join(compensation_guidelines_df, \"Associate_ID\", \"inner\")\n\n        # Calculate total compensation\n        compensation_df = calculate_total_compensation(joined_df)\n\n        # Join with hospital sales assignments\n        logger.info(\"Joining with hospital sales assignments\")\n        sales_assignments_df = compensation_df.join(hospital_sales_assignments_df, \"Associate_ID\", \"inner\")\n\n        # Join with hospital stats\n        logger.info(\"Joining with hospital stats\")\n        final_df = sales_assignments_df.join(hospital_stats_df, \"Hospital_ID\", \"inner\")\n\n        # Calculate projected sales growth rate\n        projected_growth_df = calculate_projected_sales_growth_rate(historical_sales_df)\n\n        # Select relevant fields\n        logger.info(\"Selecting relevant fields\")\n        selected_df = final_df.select(\n            \"Hospital_ID\", \"Director_Name\", \"Manager_Name\", \"Associate_ID\", \"Associate_Name\", \"Compensation\"\n        )\n\n        # Filter data\n        logger.info(\"Filtering data for years greater than 2023\")\n        filtered_df = selected_df.filter(selected_df[\"Year\"] > 2023)\n\n        # Write to Delta table\n        logger.info(\"Writing final data to Delta table\")\n        filtered_df.write.format(\"delta\").mode(\"overwrite\").saveAsTable(\"genai_demo.cardinal_health.Target_sales\")\n\n    except Exception as e:\n        logger.error(f\"Error in ETL process: {e}\")\n        raise\n\n# COMMAND ----------\n\nif __name__ == \"__main__\":\n    main()\n"
            ]
        }
    ],
    "metadata": {
        "kernelspec": {
            "display_name": "Python 3",
            "language": "python",
            "name": "python3"
        },
        "language_info": {
            "codemirror_mode": {
                "name": "ipython",
                "version": 3
            },
            "file_extension": ".py",
            "mimetype": "text/x-python",
            "name": "python",
            "nbconvert_exporter": "python",
            "pygments_lexer": "ipython3",
            "version": "3.x"
        }
    },
    "nbformat": 4,
    "nbformat_minor": 5
}