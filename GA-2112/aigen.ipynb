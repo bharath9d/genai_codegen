{
    "cells": [
        {
            "cell_type": "code",
            "execution_count": null,
            "metadata": {},
            "outputs": [],
            "source": [
                "# Databricks notebook source\n# MAGIC %md\n# MAGIC \n# MAGIC # Data Enrichment with Caching and Broadcasting\n# MAGIC This notebook demonstrates how to cache a DataFrame and use broadcasting for efficient joins in PySpark.\n\n# COMMAND ----------\n\n# Import necessary libraries\nfrom pyspark.sql import functions as F\nimport logging\n\n# Initialize logger\nlogger = logging.getLogger(__name__)\n\n# COMMAND ----------\n\n# Assume orders_central_df is already defined and loaded\n# Example of caching and broadcasting\ntry:\n    # Cache the enriched DataFrame if it will be reused multiple times\n    orders_central_df.cache()\n\n    # Broadcast the returns DataFrame if it's small\n    returns_df = spark.sql(\"SELECT * FROM catalog.source_db.returns\").alias(\"returns\")\n    returns_df = F.broadcast(returns_df)\n\n    # Perform join with broadcasted returns DataFrame\n    orders_central_df = orders_central_df.join(returns_df, \"Order ID\", \"left\").withColumn(\"Returned?\", F.when(F.col(\"Return Reason\").isNotNull(), \"Yes\").otherwise(\"No\"))\n\n    logger.info(\"Data enrichment with broadcast join completed.\")\nexcept Exception as e:\n    logger.error(f\"Error during data enrichment with broadcast join: {e}\")\n    raise\nfinally:\n    # Unpersist the DataFrame if no longer needed\n    orders_central_df.unpersist()\n"
            ]
        }
    ],
    "metadata": {
        "kernelspec": {
            "display_name": "Python 3",
            "language": "python",
            "name": "python3"
        },
        "language_info": {
            "codemirror_mode": {
                "name": "ipython",
                "version": 3
            },
            "file_extension": ".py",
            "mimetype": "text/x-python",
            "name": "python",
            "nbconvert_exporter": "python",
            "pygments_lexer": "ipython3",
            "version": "3.x"
        }
    },
    "nbformat": 4,
    "nbformat_minor": 5
}