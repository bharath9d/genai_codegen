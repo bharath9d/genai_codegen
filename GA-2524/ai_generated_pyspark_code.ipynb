{
    "cells": [
        {
            "cell_type": "code",
            "execution_count": null,
            "metadata": {},
            "outputs": [],
            "source": [
                "# Databricks notebook source\n# MAGIC %md\n# MAGIC # ETL Process for Customer 360 Profile\n# MAGIC This notebook performs an ETL process to create a comprehensive customer profile by integrating data from various sources.\n\n# COMMAND ----------\n\nimport logging\nfrom pyspark.sql import functions as F\n\n# Configure logging\nlogging.basicConfig(level=logging.INFO)\nlogger = logging.getLogger(__name__)\n\n# COMMAND ----------\n\ntry:\n    # Load data from Unity Catalog tables\n    logger.info(\"Loading data from Unity Catalog tables...\")\n    demographics_df = spark.table(\"genai_demo.jnj.demographics\")\n    claims_df = spark.table(\"genai_demo.jnj.claims\")\n    policy_df = spark.table(\"genai_demo.jnj.policy\")\n    scores_df = spark.table(\"genai_demo.jnj.scores\")\n    aiml_insights_df = spark.table(\"genai_demo.jnj.aiml_insights\")\n\n# COMMAND ----------\n\n    # Step 1: Data Selection and Filtering\n    logger.info(\"Selecting relevant fields from each dataset...\")\n    selected_demographics_df = demographics_df.select(\"Customer_ID\", \"Customer_Name\", \"Email\", \"Date_of_Birth\")\n    selected_claims_df = claims_df.select(\"Claim_ID\", \"Policy_ID\", \"Claim_Date\", \"Claim_Amount\")\n    selected_policy_df = policy_df.select(\"policy_id\", \"customer_id\", \"policy_type\", \"total_premium_paid\")\n\n# COMMAND ----------\n\n    # Step 2: Data Integration\n    logger.info(\"Joining datasets based on common identifiers...\")\n    joined_df = selected_demographics_df.join(selected_policy_df, selected_demographics_df.Customer_ID == selected_policy_df.customer_id, \"inner\")\n    joined_df = joined_df.join(selected_claims_df, joined_df.policy_id == selected_claims_df.Policy_ID, \"inner\")\n\n    # Cache the joined DataFrame for performance\n    joined_df.cache()\n\n# COMMAND ----------\n\n    # Step 3: Data Aggregation\n    logger.info(\"Aggregating data to compute metrics...\")\n    aggregated_df = joined_df.groupBy(\"Customer_ID\").agg(\n        F.count(\"Claim_ID\").alias(\"Total_Claims\"),\n        F.count(\"policy_id\").alias(\"Policy_Count\"),\n        F.max(\"Claim_Date\").alias(\"Recent_Claim_Date\"),\n        F.avg(\"Claim_Amount\").alias(\"Average_Claim_Amount\")\n    )\n\n# COMMAND ----------\n\n    # Step 4: Custom Calculations\n    logger.info(\"Performing custom calculations...\")\n    final_df = aggregated_df.withColumn(\"Age\", F.datediff(F.current_date(), F.to_date(\"Date_of_Birth\", \"yyyy-MM-dd\")) / 365) \\\n        .withColumn(\"Claim_To_Premium_Ratio\", F.when(aggregated_df.total_premium_paid != 0, aggregated_df.Average_Claim_Amount / aggregated_df.total_premium_paid).otherwise(0)) \\\n        .withColumn(\"Claims_Per_Policy\", F.when(aggregated_df.Policy_Count != 0, aggregated_df.Total_Claims / aggregated_df.Policy_Count).otherwise(0))\n\n# COMMAND ----------\n\n    # Step 5: Comprehensive Data Joining\n    logger.info(\"Integrating all data sources into a comprehensive customer profile...\")\n    comprehensive_profile_df = final_df.join(aiml_insights_df, \"Customer_ID\", \"inner\") \\\n        .join(scores_df, \"Customer_ID\", \"inner\")\n\n# COMMAND ----------\n\n    # Output Configuration\n    logger.info(\"Writing the comprehensive customer profile to Unity Catalog...\")\n    comprehensive_profile_df.write.format(\"delta\").mode(\"overwrite\").saveAsTable(\"genai_demo.jnj.customer_360_profile\")\n\n    logger.info(\"ETL process completed successfully.\")\n\nexcept Exception as e:\n    logger.error(\"An error occurred during the ETL process\", exc_info=True)\n"
            ]
        }
    ],
    "metadata": {
        "kernelspec": {
            "display_name": "Python 3",
            "language": "python",
            "name": "python3"
        },
        "language_info": {
            "codemirror_mode": {
                "name": "ipython",
                "version": 3
            },
            "file_extension": ".py",
            "mimetype": "text/x-python",
            "name": "python",
            "nbconvert_exporter": "python",
            "pygments_lexer": "ipython3",
            "version": "3.x"
        }
    },
    "nbformat": 4,
    "nbformat_minor": 5
}