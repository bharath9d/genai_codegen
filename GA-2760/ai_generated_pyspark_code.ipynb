{
    "cells": [
        {
            "cell_type": "code",
            "execution_count": null,
            "metadata": {},
            "outputs": [],
            "source": [
                "# Databricks notebook source\n# MAGIC %md\n# MAGIC # ETL Process for Unity Catalog Data\n# MAGIC This notebook performs an ETL process on data from Unity Catalog tables, including data loading, transformation, and writing the results back to Unity Catalog.\n\n# COMMAND ----------\n\nimport logging\nfrom pyspark.sql import functions as F\nfrom pyspark.sql.types import DoubleType\n\n# Configure logging\nlogging.basicConfig(level=logging.INFO)\nlogger = logging.getLogger(__name__)\n\n# COMMAND ----------\n\ntry:\n    # Load data from Unity Catalog tables\n    logger.info(\"Loading data from Unity Catalog tables...\")\n    response_df = spark.table(\"catalog.db.response\").select(\"Region\", \"2015\", \"2016\", \"2017\", \"2018\")\n    orders_east_df = spark.table(\"catalog.db.orders_east\")\n    orders_south_df = spark.table(\"catalog.db.orders_south\")\n    orders_central_df = spark.table(\"catalog.db.orders_central\")\n    return_reasons_df = spark.table(\"catalog.db.return_reasons\")\n    orders_west_df = spark.table(\"catalog.db.orders_west\")\n\n# COMMAND ----------\n\n    # Unpivoting the response data\n    logger.info(\"Unpivoting response data...\")\n    quota_df = response_df.selectExpr(\n        \"Region\",\n        \"stack(4, '2015', `2015`, '2016', `2016`, '2017', `2017`, '2018', `2018`) as (Year, Quota)\"\n    )\n\n# COMMAND ----------\n\n    # Union all orders data\n    logger.info(\"Union all orders data...\")\n    all_orders_df = orders_east_df.union(orders_south_df).union(orders_central_df).union(orders_west_df).cache()\n\n# COMMAND ----------\n\n    # Join operations with broadcast\n    logger.info(\"Joining dataframes...\")\n    joined_df = all_orders_df.join(\n        F.broadcast(quota_df),\n        (all_orders_df.Region == quota_df.Region) & (all_orders_df.Year == quota_df.Year),\n        \"inner\"\n    )\n\n# COMMAND ----------\n\n    # Custom Calculations\n    logger.info(\"Performing custom calculations...\")\n    joined_df = joined_df.withColumn(\"Compensation\", F.col(\"Base_Salary\") + (F.col(\"Commission_Percentage\") * F.col(\"Base_Salary\")) + F.col(\"Bonus\"))\n    joined_df = joined_df.withColumn(\"Days_to_Ship\", F.datediff(F.col(\"Ship_Date\"), F.col(\"Order_Date\")))\n    joined_df = joined_df.withColumn(\"Returned\", F.when(F.col(\"Return_Reason\").isNotNull(), \"Yes\").otherwise(\"No\"))\n    joined_df = joined_df.withColumn(\"Year_of_Sale\", F.year(F.col(\"Order_Date\")))\n\n# COMMAND ----------\n\n    # Data Type Conversion\n    logger.info(\"Converting data types...\")\n    joined_df = joined_df.withColumn(\"Discount\", F.col(\"Discount\").cast(DoubleType()))\n    joined_df = joined_df.withColumn(\"Sales\", F.regexp_replace(F.col(\"Sales\"), \"[^0-9.]\", \"\").cast(DoubleType()))\n\n# COMMAND ----------\n\n    # Filtering and Sorting\n    logger.info(\"Filtering and sorting data...\")\n    filtered_df = joined_df.filter(F.col(\"Year_of_Sale\") > 2023).orderBy(\"Year_of_Sale\")\n\n# COMMAND ----------\n\n    # Aggregations\n    logger.info(\"Aggregating data...\")\n    aggregated_df = filtered_df.groupBy(\"Region\", \"Year_of_Sale\").agg(\n        F.sum(\"Profit\").alias(\"Total_Profit\"),\n        F.sum(\"Sales\").alias(\"Total_Sales\"),\n        F.sum(\"Quantity\").alias(\"Total_Quantity\"),\n        F.avg(\"Discount\").alias(\"Average_Discount\")\n    )\n\n# COMMAND ----------\n\n    # Write the processed data to Unity Catalog tables\n    logger.info(\"Writing processed data to Unity Catalog tables...\")\n    aggregated_df.write.format(\"delta\").mode(\"overwrite\").saveAsTable(\"catalog.target_db.annual_regional_performance\")\n\n    logger.info(\"ETL process completed successfully.\")\n\nexcept Exception as e:\n    logger.error(f\"An error occurred during the ETL process: {e}\")\n    raise\n"
            ]
        }
    ],
    "metadata": {
        "kernelspec": {
            "display_name": "Python 3",
            "language": "python",
            "name": "python3"
        },
        "language_info": {
            "codemirror_mode": {
                "name": "ipython",
                "version": 3
            },
            "file_extension": ".py",
            "mimetype": "text/x-python",
            "name": "python",
            "nbconvert_exporter": "python",
            "pygments_lexer": "ipython3",
            "version": "3.x"
        }
    },
    "nbformat": 4,
    "nbformat_minor": 5
}