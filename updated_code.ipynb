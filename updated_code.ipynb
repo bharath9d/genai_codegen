{
    "cells": [
        {
            "cell_type": "code",
            "execution_count": null,
            "metadata": {},
            "outputs": [],
            "source": [
                "# Databricks notebook source\n# MAGIC %md\n# MAGIC # ETL Process for Customer 360 View\n# MAGIC This notebook performs an ETL process to create a comprehensive customer 360 view by integrating data from various sources.\n\n# COMMAND ----------\n\nimport logging\nfrom pyspark.sql.functions import count, max, avg, datediff, current_date, when, lit, broadcast\n\n# Configure logging\nlogging.basicConfig(level=logging.INFO)\nlogger = logging.getLogger(__name__)\n\n# Assume the Spark session is already initialized as 'spark'\n\n# COMMAND ----------\n\ndef main():\n    try:\n        # Load data from Unity Catalog tables\n        logger.info(\"Loading data from Unity Catalog tables...\")\n        claims_df = spark.table(\"genai_demo.guardian.claims\")\n        demographics_df = spark.table(\"genai_demo.guardian.demographics\")\n        policy_df = spark.table(\"genai_demo.guardian.policy\")\n        scores_df = spark.table(\"genai_demo.guardian.scores\")\n        aiml_insights_df = spark.table(\"genai_demo.guardian.aiml_insights\")\n\n# COMMAND ----------\n\n        # Select necessary fields from demographics and claims data\n        logger.info(\"Selecting necessary fields...\")\n        selected_demographics_df = demographics_df.select(\n            \"Customer_ID\", \"Customer_Name\", \"Email\", \"Phone_Number\", \"Address\", \n            \"City\", \"State\", \"Postal_Code\", \"Date_of_Birth\", \"Gender\", \n            \"Marital_Status\", \"Occupation\", \"Income_Level\", \"Customer_Segment\"\n        )\n        selected_claims_df = claims_df.select(\n            \"Claim_ID\", \"Policy_ID\", \"Claim_Date\", \"Claim_Type\", \n            \"Claim_Status\", \"Claim_Amount\", \"Claim_Payout\"\n        )\n\n# COMMAND ----------\n\n        # Data Integration: Join demographics and policy data on Customer_ID, then with claims data on Policy_ID\n        logger.info(\"Joining data...\")\n        joined_df = selected_demographics_df.join(policy_df, \"Customer_ID\").join(selected_claims_df, \"Policy_ID\")\n        joined_df.cache()  # Cache the joined DataFrame for performance\n\n# COMMAND ----------\n\n        # Data Aggregation\n        logger.info(\"Aggregating data...\")\n        aggregated_df = joined_df.groupBy(\"Customer_ID\").agg(\n            count(\"Claim_ID\").alias(\"Total_Claims\"),\n            count(\"Policy_ID\").alias(\"Policy_Count\"),\n            max(\"Claim_Date\").alias(\"Recent_Claim_Date\"),\n            avg(\"Claim_Amount\").alias(\"Average_Claim_Amount\")\n        )\n\n# COMMAND ----------\n\n        # Custom Calculations\n        logger.info(\"Performing custom calculations...\")\n        final_df = aggregated_df.withColumn(\"Age\", datediff(current_date(), \"Date_of_Birth\") / 365) \\\n            .withColumn(\"Claim_To_Premium_Ratio\", when(policy_df[\"Total_Premium_Paid\"] != 0, claims_df[\"Claim_Amount\"] / policy_df[\"Total_Premium_Paid\"]).otherwise(0)) \\\n            .withColumn(\"Claims_Per_Policy\", when(aggregated_df[\"Policy_Count\"] != 0, aggregated_df[\"Total_Claims\"] / aggregated_df[\"Policy_Count\"]).otherwise(0)) \\\n            .withColumn(\"Retention_Rate\", lit(0.85)) \\\n            .withColumn(\"Cross_Sell_Opportunities\", lit(\"Multi-Policy Discount, Home Coverage Add-on\")) \\\n            .withColumn(\"Upsell_Potential\", lit(\"Premium Vehicle Coverage\"))\n\n# COMMAND ----------\n\n        # Join with additional data sources: AI/ML insights and scores\n        logger.info(\"Joining with additional data sources...\")\n        comprehensive_df = final_df.join(broadcast(scores_df), \"Customer_ID\").join(broadcast(aiml_insights_df), \"Customer_ID\")\n\n# COMMAND ----------\n\n        # Output Data Source: Save the final comprehensive dataset to a Unity Catalog table\n        logger.info(\"Writing the final dataset to Unity Catalog...\")\n        comprehensive_df.write.format(\"delta\").mode(\"overwrite\").saveAsTable(\"genai_demo.guardian.customer_360_view\")\n\n        logger.info(\"ETL process completed successfully.\")\n\n    except Exception as e:\n        logger.error(\"An error occurred during the ETL process\", exc_info=True)\n\n# COMMAND ----------\n\nif __name__ == \"__main__\":\n    main()\n"
            ]
        }
    ],
    "metadata": {
        "kernelspec": {
            "display_name": "Python 3",
            "language": "python",
            "name": "python3"
        },
        "language_info": {
            "codemirror_mode": {
                "name": "ipython",
                "version": 3
            },
            "file_extension": ".py",
            "mimetype": "text/x-python",
            "name": "python",
            "nbconvert_exporter": "python",
            "pygments_lexer": "ipython3",
            "version": "3.x"
        }
    },
    "nbformat": 4,
    "nbformat_minor": 5
}