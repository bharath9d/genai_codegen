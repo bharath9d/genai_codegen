{
    "cells": [
        {
            "cell_type": "code",
            "execution_count": null,
            "metadata": {},
            "outputs": [],
            "source": [
                "# Databricks notebook source\n# ETL Process for Global Indicators\n# This notebook performs an ETL process on global indicators data using PySpark in Databricks.\n\n# COMMAND ----------\nimport logging\nfrom pyspark.sql.functions import col, when, lit, sum as spark_sum, expr, broadcast\n\n# Initialize logging\nlogging.basicConfig(level=logging.INFO)\nlogger = logging.getLogger(__name__)\n\n# Assume the Spark session is already available as 'spark'\n\n# COMMAND ----------\ntry:\n    # Load data from Unity Catalog tables\n    logger.info(\"Loading data from Unity Catalog tables.\")\n    df_indicators = spark.table(\"catalog.source_db.global_world_indicators_2000\")\n    df_indices = spark.table(\"catalog.source_db.ConsumerPriceIndices\")\n\n# COMMAND ----------\n    # Transformation: Remove Columns\n    logger.info(\"Removing unnecessary columns.\")\n    df_indicators = df_indicators.drop(\"UnnecessaryColumn\")  # Replace with actual column name\n\n# COMMAND ----------\n    # Transformation: Change Column Type\n    logger.info(\"Changing column types.\")\n    df_indicators = df_indicators.withColumn(\"GDP\", col(\"GDP\").cast(\"double\"))\n\n# COMMAND ----------\n    # Transformation: Remap\n    logger.info(\"Remapping values in 'Ease of Business' column.\")\n    df_indicators = df_indicators.withColumn(\n        \"Ease of Business\",\n        when(col(\"Ease of Business\") == \"Easy\", \"1\").otherwise(\"0\")\n    )\n\n# COMMAND ----------\n    # Transformation: Add Column\n    logger.info(\"Adding new column with default value.\")\n    df_indicators = df_indicators.withColumn(\"NewColumn\", lit(\"DefaultValue\"))\n\n# COMMAND ----------\n    # Transformation: Rename Column\n    logger.info(\"Renaming columns.\")\n    df_indicators = df_indicators.withColumnRenamed(\"OldColumnName\", \"NewColumnName\")  # Replace with actual column names\n\n# COMMAND ----------\n    # Transformation: Filter Operation\n    logger.info(\"Applying filter operation on 'Year' column.\")\n    df_indicators = df_indicators.filter(col(\"Year\") > 2000)\n\n# COMMAND ----------\n    # Transformation: Range Filter\n    logger.info(\"Applying range filter on 'GDP' column.\")\n    df_indicators = df_indicators.filter((col(\"GDP\") > 1000) & (col(\"GDP\") < 5000))\n\n# COMMAND ----------\n    # Transformation: Aggregate\n    logger.info(\"Aggregating data by 'Country/Region'.\")\n    df_aggregated = df_indicators.groupBy(\"Country/Region\").agg(spark_sum(\"GDP\").alias(\"TotalGDP\"))\n\n# COMMAND ----------\n    # Transformation: Unpivot\n    logger.info(\"Unpivoting data.\")\n    df_unpivoted = df_indicators.selectExpr(\n        \"Country/Region\",\n        \"stack(3, 'GDP', GDP, 'CO2 Emissions', CO2_Emissions, 'Health Exp % GDP', Health_Exp_Percent_GDP) as (Indicator, Value)\"\n    )\n\n# COMMAND ----------\n    # Transformation: Join Condition\n    logger.info(\"Joining indicators and indices data.\")\n    df_joined = df_indicators.join(broadcast(df_indices), \"Country/Region\", \"inner\")\n\n# COMMAND ----------\n    # Custom Calculation: Extract first 4 characters from 'Year'\n    logger.info(\"Applying custom calculation to extract year.\")\n    df_joined = df_joined.withColumn(\"Year\", expr(\"substring(Year, 1, 4)\"))\n\n# COMMAND ----------\n    # Write the transformed data to a Unity Catalog target table\n    logger.info(\"Writing transformed data to Unity Catalog target table.\")\n    df_joined.write.format(\"delta\").mode(\"overwrite\").saveAsTable(\"catalog.target_db.Global_Indicators\")\n\n    logger.info(\"ETL process completed successfully.\")\n\n# COMMAND ----------\nexcept Exception as e:\n    logger.error(\"An error occurred during the ETL process.\", exc_info=True)\n"
            ]
        }
    ],
    "metadata": {
        "kernelspec": {
            "display_name": "Python 3",
            "language": "python",
            "name": "python3"
        },
        "language_info": {
            "codemirror_mode": {
                "name": "ipython",
                "version": 3
            },
            "file_extension": ".py",
            "mimetype": "text/x-python",
            "name": "python",
            "nbconvert_exporter": "python",
            "pygments_lexer": "ipython3",
            "version": "3.x"
        }
    },
    "nbformat": 4,
    "nbformat_minor": 5
}