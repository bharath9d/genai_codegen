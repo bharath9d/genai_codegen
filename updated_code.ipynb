{
    "cells": [
        {
            "cell_type": "code",
            "execution_count": null,
            "metadata": {},
            "outputs": [],
            "source": [
                "# Databricks notebook source\n# MAGIC %md\n# MAGIC # ETL Process for Customer 360 Data\n# MAGIC This notebook performs an ETL process to integrate and transform data from various Unity Catalog tables into a comprehensive Customer 360 view.\n\n# COMMAND ----------\n\nimport logging\nfrom pyspark.sql import functions as F\nfrom pyspark.sql import SparkSession\n\n# Configure logging\nlogging.basicConfig(level=logging.INFO)\nlogger = logging.getLogger(__name__)\n\n# COMMAND ----------\n\ntry:\n    # Load data from Unity Catalog tables\n    logger.info(\"Loading data from Unity Catalog tables.\")\n    demographics_df = spark.table(\"genai_demo.guardian.demographics\")\n    claims_df = spark.table(\"genai_demo.guardian.claims\")\n    policy_df = spark.table(\"genai_demo.guardian.policy\")\n    aiml_insights_df = spark.table(\"genai_demo.guardian.aiml_insights\")\n    scores_df = spark.table(\"genai_demo.guardian.scores\")\n\n# COMMAND ----------\n\n    # Select relevant fields\n    logger.info(\"Selecting relevant fields from demographics and claims data.\")\n    selected_demographics_df = demographics_df.select(\n        \"Customer_ID\", \"Customer_Name\", \"Email\", \"Phone_Number\", \"Address\", \"City\", \"State\", \"Postal_Code\",\n        \"Date_of_Birth\", \"Gender\", \"Marital_Status\", \"Occupation\", \"Income_Level\", \"Customer_Segment\"\n    )\n    selected_claims_df = claims_df.select(\n        \"Claim_ID\", \"Policy_ID\", \"Claim_Date\", \"Claim_Type\", \"Claim_Status\", \"Claim_Amount\", \"Claim_Payout\"\n    )\n\n# COMMAND ----------\n\n    # Data Integration\n    logger.info(\"Joining demographics and policy data on Customer_ID.\")\n    demographics_policy_df = selected_demographics_df.join(policy_df, \"Customer_ID\", \"inner\")\n\n    # Remove duplicate columns from the right DataFrame\n    logger.info(\"Joining the result with claims data on Policy_ID.\")\n    integrated_df = demographics_policy_df.join(selected_claims_df, \"Policy_ID\", \"inner\")\n\n    # Cache the integrated DataFrame if reused\n    integrated_df.cache()\n\n# COMMAND ----------\n\n    # Data Aggregation\n    logger.info(\"Aggregating data to calculate metrics.\")\n    aggregated_df = integrated_df.groupBy(\"Customer_ID\").agg(\n        F.count(\"Claim_ID\").alias(\"Total_Claims\"),\n        F.countDistinct(\"Policy_ID\").alias(\"Policy_Count\"),\n        F.max(\"Claim_Date\").alias(\"Recent_Claim_Date\"),\n        F.avg(\"Claim_Amount\").alias(\"Average_Claim_Amount\")\n    )\n\n# COMMAND ----------\n\n    # Custom Calculations\n    logger.info(\"Performing custom calculations.\")\n    integrated_df = integrated_df.withColumn(\"Age\", F.datediff(F.current_date(), \"Date_of_Birth\") / 365)\n    integrated_df = integrated_df.withColumn(\n        \"Claim_To_Premium_Ratio\",\n        F.when(integrated_df[\"Total_Premium_Paid\"] != 0, integrated_df[\"Claim_Amount\"] / integrated_df[\"Total_Premium_Paid\"]).otherwise(0)\n    )\n    integrated_df = integrated_df.withColumn(\n        \"Claims_Per_Policy\",\n        F.when(aggregated_df[\"Policy_Count\"] != 0, aggregated_df[\"Total_Claims\"] / aggregated_df[\"Policy_Count\"]).otherwise(0)\n    )\n    integrated_df = integrated_df.withColumn(\"Retention_Rate\", F.lit(0.85))\n    integrated_df = integrated_df.withColumn(\"Cross_Sell_Opportunities\", F.lit(\"Multi-Policy Discount, Home Coverage Add-on\"))\n    integrated_df = integrated_df.withColumn(\"Upsell_Potential\", F.lit(\"Premium Vehicle Coverage\"))\n\n# COMMAND ----------\n\n    # Final Data Integration\n    logger.info(\"Combining all data with AI/ML insights and scores.\")\n    final_df = integrated_df.join(F.broadcast(aiml_insights_df), \"Customer_ID\", \"inner\").join(F.broadcast(scores_df), \"Customer_ID\", \"inner\")\n\n# COMMAND ----------\n\n    # Write to Unity Catalog target table\n    logger.info(\"Writing final output to Unity Catalog target table.\")\n    final_df.write.format(\"delta\").mode(\"overwrite\").saveAsTable(\"genai_demo.guardian.customer_360\")\n\nexcept Exception as e:\n    logger.error(\"An error occurred during the ETL process: %s\", str(e))\n    raise\n"
            ]
        }
    ],
    "metadata": {
        "kernelspec": {
            "display_name": "Python 3",
            "language": "python",
            "name": "python3"
        },
        "language_info": {
            "codemirror_mode": {
                "name": "ipython",
                "version": 3
            },
            "file_extension": ".py",
            "mimetype": "text/x-python",
            "name": "python",
            "nbconvert_exporter": "python",
            "pygments_lexer": "ipython3",
            "version": "3.x"
        }
    },
    "nbformat": 4,
    "nbformat_minor": 5
}