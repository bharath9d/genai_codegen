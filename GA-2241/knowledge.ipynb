{
    "cells": [
        {
            "cell_type": "code",
            "execution_count": null,
            "metadata": {},
            "outputs": [],
            "source": [
                "# Databricks notebook source\n# MAGIC %md\n# MAGIC # ETL Process for Insurance Data\n# MAGIC This notebook performs an ETL process on insurance data using PySpark. It loads data from Unity Catalog tables, performs data transformations, and writes the final output back to Unity Catalog.\n\n# COMMAND ----------\n\nimport logging\nfrom pyspark.sql import functions as F\nfrom pyspark.sql.types import DoubleType, DateType\n\n# Configure logging\nlogging.basicConfig(level=logging.INFO)\nlogger = logging.getLogger(__name__)\n\n# COMMAND ----------\n\ntry:\n    # Load data from Unity Catalog tables\n    logger.info(\"Loading data from Unity Catalog tables...\")\n    policy_df = spark.table(\"catalog.insurance_db.policy_data\")\n    claims_df = spark.table(\"catalog.insurance_db.claims_data\")\n    demographics_df = spark.table(\"catalog.insurance_db.demographics_data\")\n    scores_df = spark.table(\"catalog.insurance_db.scores_data\")\n    aiml_insights_df = spark.table(\"catalog.insurance_db.aiml_insights_data\")\n\n# COMMAND ----------\n\n    # Data Selection and Filtering\n    logger.info(\"Selecting relevant fields from demographics data...\")\n    demographics_selected = demographics_df.select(\n        \"Customer_ID\", \"Customer_Name\", \"Email\", \"Phone_Number\", \"Address\", \"City\", \"State\", \"Postal_Code\",\n        F.col(\"Date_of_Birth\").cast(DateType()), \"Gender\", \"Marital_Status\", \"Occupation\", \"Income_Level\", \"Customer_Segment\"\n    )\n\n# COMMAND ----------\n\n    # Data Integration\n    logger.info(\"Joining demographics and policy data...\")\n    joined_df = demographics_selected.join(\n        policy_df, demographics_selected.Customer_ID == policy_df.customer_id, \"inner\"\n    ).cache()\n\n# COMMAND ----------\n\n    # Data Aggregation\n    logger.info(\"Aggregating claims data...\")\n    aggregated_df = claims_df.groupBy(\"Customer_ID\").agg(\n        F.count(\"Claim_ID\").alias(\"Total_Claims\"),\n        F.max(\"Claim_Date\").alias(\"Recent_Claim_Date\"),\n        F.avg(\"Claim_Amount\").alias(\"Average_Claim_Amount\")\n    )\n\n# COMMAND ----------\n\n    # Custom Calculations\n    logger.info(\"Calculating custom fields...\")\n    final_df = joined_df.withColumn(\n        \"Age\", F.datediff(F.current_date(), \"Date_of_Birth\") / 365\n    ).withColumn(\n        \"Claim_To_Premium_Ratio\", F.when(joined_df.total_premium_paid != 0, joined_df.Claim_Amount / joined_df.total_premium_paid).otherwise(0)\n    ).withColumn(\n        \"Claims_Per_Policy\", F.when(F.col(\"Policy_Count\") != 0, F.col(\"Total_Claims\") / F.col(\"Policy_Count\")).otherwise(0)\n    ).withColumn(\n        \"Retention_Rate\", F.lit(0.85)\n    ).withColumn(\n        \"Cross_Sell_Opportunities\", F.lit(\"Multi-Policy Discount, Home Coverage Add-on\")\n    ).withColumn(\n        \"Upsell_Potential\", F.lit(\"Premium Vehicle Coverage\")\n    )\n\n# COMMAND ----------\n\n    # Comprehensive Data Consolidation\n    logger.info(\"Creating Customer 360 view...\")\n    customer_360_df = final_df.join(\n        aggregated_df, \"Customer_ID\", \"inner\"\n    ).join(\n        scores_df, \"Customer_ID\", \"inner\"\n    ).join(\n        aiml_insights_df, \"Customer_ID\", \"inner\"\n    )\n\n# COMMAND ----------\n\n    # Output Handling\n    logger.info(\"Writing the final output to Unity Catalog table...\")\n    customer_360_df.write.format(\"delta\").mode(\"overwrite\").saveAsTable(\"catalog.insurance_db.customer_360\")\n\n    logger.info(\"ETL process completed successfully.\")\n\nexcept Exception as e:\n    logger.error(\"An error occurred during the ETL process\", exc_info=True)\n"
            ]
        }
    ],
    "metadata": {
        "kernelspec": {
            "display_name": "Python 3",
            "language": "python",
            "name": "python3"
        },
        "language_info": {
            "codemirror_mode": {
                "name": "ipython",
                "version": 3
            },
            "file_extension": ".py",
            "mimetype": "text/x-python",
            "name": "python",
            "nbconvert_exporter": "python",
            "pygments_lexer": "ipython3",
            "version": "3.x"
        }
    },
    "nbformat": 4,
    "nbformat_minor": 5
}