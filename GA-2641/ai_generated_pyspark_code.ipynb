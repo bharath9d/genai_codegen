{
    "cells": [
        {
            "cell_type": "code",
            "execution_count": null,
            "metadata": {},
            "outputs": [],
            "source": [
                "# COMMAND ----------\nimport logging\nfrom pyspark.sql import functions as F\nfrom pyspark.sql.window import Window\nfrom pyspark.sql.types import DateType\n\n# Configure logging\nlogging.basicConfig(level=logging.INFO)\nlogger = logging.getLogger(__name__)\n\n# COMMAND ----------\ntry:\n    # Step 1: Data Loading\n    logger.info(\"Loading data from Unity Catalog tables.\")\n    claims_df = spark.table(\"genai_demo.jnj.claims\")\n    demographics_df = spark.table(\"genai_demo.jnj.demographics\")\n    policy_df = spark.table(\"genai_demo.jnj.policy\")\n    scores_df = spark.table(\"genai_demo.jnj.scores\")\n    aiml_insights_df = spark.table(\"genai_demo.jnj.aiml_insights\")\n\n# COMMAND ----------\n    # Step 2: Data Selection and Filtering\n    logger.info(\"Selecting relevant fields from each DataFrame.\")\n    demographics_df = demographics_df.select(\"Customer_ID\", \"Customer_Name\", \"Date_of_Birth\", \"Gender\", \"Income_Level\")\n    claims_df = claims_df.select(\"Claim_ID\", \"Policy_ID\", \"Claim_Date\", \"Claim_Amount\")\n    policy_df = policy_df.select(\"Policy_ID\", \"Customer_ID\", \"Policy_Type\", \"Policy_Premium\", \"Total_Premium_Paid\")\n\n    # Convert date fields to DateType\n    demographics_df = demographics_df.withColumn(\"Date_of_Birth\", F.col(\"Date_of_Birth\").cast(DateType()))\n    claims_df = claims_df.withColumn(\"Claim_Date\", F.col(\"Claim_Date\").cast(DateType()))\n\n# COMMAND ----------\n    # Step 3: Data Integration and Joining\n    logger.info(\"Joining DataFrames on common identifiers.\")\n    customer_policy_df = demographics_df.join(policy_df, \"Customer_ID\")\n    customer_claims_df = customer_policy_df.join(claims_df, \"Policy_ID\")\n\n# COMMAND ----------\n    # Step 4: Data Aggregation\n    logger.info(\"Computing aggregate metrics.\")\n    aggregated_df = customer_claims_df.groupBy(\"Customer_ID\").agg(\n        F.count(\"Claim_ID\").alias(\"Total_Claims\"),\n        F.avg(\"Claim_Amount\").alias(\"Average_Claim_Amount\"),\n        F.max(\"Claim_Date\").alias(\"Recent_Claim_Date\")\n    )\n\n# COMMAND ----------\n    # Step 5: Custom Calculations\n    logger.info(\"Implementing custom calculations for additional metrics.\")\n    final_df = aggregated_df.join(customer_policy_df, \"Customer_ID\").withColumn(\n        \"Age\", F.datediff(F.current_date(), F.col(\"Date_of_Birth\")) / 365\n    ).withColumn(\n        \"Claim_To_Premium_Ratio\", F.when(F.col(\"Total_Premium_Paid\") != 0, F.col(\"Average_Claim_Amount\") / F.col(\"Total_Premium_Paid\")).otherwise(0)\n    ).withColumn(\n        \"Claims_Per_Policy\", F.when(F.col(\"Policy_Type\").isNotNull(), F.col(\"Total_Claims\") / F.count(\"Policy_ID\").over(Window.partitionBy(\"Customer_ID\"))).otherwise(0)\n    ).withColumn(\n        \"Retention_Rate\", F.lit(0.85)\n    ).withColumn(\n        \"Cross_Sell_Opportunities\", F.lit(\"Multi-Policy Discount, Home Coverage Add-on\")\n    ).withColumn(\n        \"Upsell_Potential\", F.lit(\"Premium Vehicle Coverage\")\n    )\n\n# COMMAND ----------\n    # Step 6: Comprehensive Data Joining\n    logger.info(\"Integrating additional insights from AI/ML data and scores.\")\n    final_df = final_df.join(scores_df, \"Customer_ID\").join(aiml_insights_df, \"Customer_ID\")\n\n# COMMAND ----------\n    # Step 7: Output to Customer 360 View\n    logger.info(\"Writing the final DataFrame to the target table in Databricks.\")\n    final_df.write.format(\"delta\").mode(\"overwrite\").saveAsTable(\"genai_demo.jnj.customer_360_view\")\n\n    logger.info(\"ETL process completed successfully.\")\n\nexcept Exception as e:\n    logger.error(\"An error occurred during the ETL process.\", exc_info=True)\n"
            ]
        }
    ],
    "metadata": {
        "kernelspec": {
            "display_name": "Python 3",
            "language": "python",
            "name": "python3"
        },
        "language_info": {
            "codemirror_mode": {
                "name": "ipython",
                "version": 3
            },
            "file_extension": ".py",
            "mimetype": "text/x-python",
            "name": "python",
            "nbconvert_exporter": "python",
            "pygments_lexer": "ipython3",
            "version": "3.x"
        }
    },
    "nbformat": 4,
    "nbformat_minor": 5
}