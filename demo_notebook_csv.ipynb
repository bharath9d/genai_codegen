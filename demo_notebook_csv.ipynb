{
 "cells": [
  {
   "cell_type": "code",
   "execution_count": 0,
   "metadata": {
    "application/vnd.databricks.v1+cell": {
     "cellMetadata": {
      "byteLimit": 2048000,
      "rowLimit": 10000
     },
     "inputWidgets": {},
     "nuid": "f319a41c-5461-40a5-98be-1de314f11b92",
     "showTitle": false,
     "tableResultSettingsMap": {},
     "title": ""
    }
   },
   "outputs": [
    {
     "output_type": "execute_result",
     "data": {
      "text/plain": [
       "'3.5.0'"
      ]
     },
     "execution_count": 1,
     "metadata": {},
     "output_type": "execute_result"
    }
   ],
   "source": [
    "spark.version"
   ]
  },
  {
   "cell_type": "code",
   "execution_count": 0,
   "metadata": {
    "application/vnd.databricks.v1+cell": {
     "cellMetadata": {
      "byteLimit": 2048000,
      "rowLimit": 10000
     },
     "inputWidgets": {},
     "nuid": "f1148caf-388d-4c18-b31f-0cd43d0b2173",
     "showTitle": false,
     "tableResultSettingsMap": {},
     "title": ""
    }
   },
   "outputs": [
    {
     "output_type": "stream",
     "name": "stdout",
     "output_type": "stream",
     "text": [
      "Python 3.11.0rc1\r\n"
     ]
    }
   ],
   "source": [
    "!python --version"
   ]
  },
  {
   "cell_type": "code",
   "execution_count": 0,
   "metadata": {
    "application/vnd.databricks.v1+cell": {
     "cellMetadata": {
      "byteLimit": 2048000,
      "rowLimit": 10000
     },
     "inputWidgets": {},
     "nuid": "d9d2a3f9-828c-4def-91ab-d6383806405e",
     "showTitle": false,
     "tableResultSettingsMap": {},
     "title": ""
    }
   },
   "outputs": [],
   "source": [
    "# Import necessary libraries\n",
    "from pyspark.sql import functions as F\n",
    "from pyspark.sql.functions import udf\n",
    "from pyspark.sql.types import DoubleType\n",
    "\n",
    "import requests\n",
    "import logging\n",
    "\n",
    "# Set up logging\n",
    "logging.basicConfig(level=logging.INFO)\n",
    "logger = logging.getLogger(__name__)"
   ]
  },
  {
   "cell_type": "code",
   "execution_count": 0,
   "metadata": {
    "application/vnd.databricks.v1+cell": {
     "cellMetadata": {
      "byteLimit": 2048000,
      "rowLimit": 10000
     },
     "inputWidgets": {},
     "nuid": "6ee76e9a-f994-4c46-a7dd-3c95c37f35fa",
     "showTitle": false,
     "tableResultSettingsMap": {},
     "title": ""
    }
   },
   "outputs": [
    {
     "output_type": "stream",
     "name": "stderr",
     "output_type": "stream",
     "text": [
      "INFO:py4j.clientserver:Received command c on object id p0\n"
     ]
    }
   ],
   "source": [
    "# Assuming the catalogs are already set up in Databricks\n",
    "# Read data from the catalogs\n",
    "policy_df = spark.table(\"genai_demo.guardian.policy\")\n",
    "claims_df = spark.table(\"genai_demo.guardian.claims\")\n",
    "demographics_df = spark.table(\"genai_demo.guardian.demographics\")\n",
    "scores_df = spark.table(\"genai_demo.guardian.scores\")\n",
    "aiml_insights_df = spark.table(\"genai_demo.guardian.aiml_insights\")\n"
   ]
  },
  {
   "cell_type": "code",
   "execution_count": 0,
   "metadata": {
    "application/vnd.databricks.v1+cell": {
     "cellMetadata": {
      "byteLimit": 2048000,
      "rowLimit": 10000
     },
     "inputWidgets": {},
     "nuid": "d0eac4d3-0677-48f0-93a2-2f026f2b0ef1",
     "showTitle": false,
     "tableResultSettingsMap": {},
     "title": ""
    }
   },
   "outputs": [],
   "source": [
    "\n",
    "# Join dataframes\n",
    "joined_df = policy_df.join(demographics_df, \"Customer_ID\").join(claims_df, \"Policy_ID\").join(scores_df, \"Customer_ID\").join(aiml_insights_df, \"Customer_ID\")\n",
    "\n"
   ]
  },
  {
   "cell_type": "code",
   "execution_count": 0,
   "metadata": {
    "application/vnd.databricks.v1+cell": {
     "cellMetadata": {
      "byteLimit": 2048000,
      "rowLimit": 10000
     },
     "inputWidgets": {},
     "nuid": "07a87da5-93e7-4224-a196-cd5e399d4e46",
     "showTitle": false,
     "tableResultSettingsMap": {},
     "title": ""
    }
   },
   "outputs": [
    {
     "output_type": "stream",
     "name": "stderr",
     "output_type": "stream",
     "text": [
      "INFO:py4j.clientserver:Received command c on object id p0\n"
     ]
    },
    {
     "output_type": "stream",
     "name": "stdout",
     "output_type": "stream",
     "text": [
      "root\n |-- customer_id: string (nullable = true)\n |-- policy_id: string (nullable = true)\n |-- policy_type: string (nullable = true)\n |-- policy_status: string (nullable = true)\n |-- policy_start_date: date (nullable = true)\n |-- policy_end_date: date (nullable = true)\n |-- policy_term: long (nullable = true)\n |-- policy_premium: double (nullable = true)\n |-- total_premium_paid: double (nullable = true)\n |-- renewal_status: string (nullable = true)\n |-- policy_addons: string (nullable = true)\n |-- Customer_Name: string (nullable = true)\n |-- Email: string (nullable = true)\n |-- Phone_Number: string (nullable = true)\n |-- Address: string (nullable = true)\n |-- City: string (nullable = true)\n |-- State: string (nullable = true)\n |-- Postal_Code: long (nullable = true)\n |-- Date_of_Birth: date (nullable = true)\n |-- Gender: string (nullable = true)\n |-- Marital_Status: string (nullable = true)\n |-- Occupation: string (nullable = true)\n |-- Income_Level: string (nullable = true)\n |-- Customer_Segment: string (nullable = true)\n |-- Claim_ID: string (nullable = true)\n |-- Claim_Date: date (nullable = true)\n |-- Claim_Type: string (nullable = true)\n |-- Claim_Status: string (nullable = true)\n |-- Claim_Amount: double (nullable = true)\n |-- Claim_Payout: double (nullable = true)\n |-- Credit_Score: long (nullable = true)\n |-- Fraud_Score: long (nullable = true)\n |-- Customer_Risk_Score: double (nullable = true)\n |-- Churn_Probability: double (nullable = true)\n |-- Next_Best_Offer: string (nullable = true)\n |-- Claims_Fraud_Probability: double (nullable = true)\n |-- Revenue_Potential: double (nullable = true)\n\n"
     ]
    }
   ],
   "source": [
    "joined_df.printSchema()"
   ]
  },
  {
   "cell_type": "code",
   "execution_count": 0,
   "metadata": {
    "application/vnd.databricks.v1+cell": {
     "cellMetadata": {
      "byteLimit": 2048000,
      "rowLimit": 10000
     },
     "inputWidgets": {},
     "nuid": "047a6911-c620-4925-853f-1ab379bc1238",
     "showTitle": false,
     "tableResultSettingsMap": {},
     "title": ""
    }
   },
   "outputs": [
    {
     "output_type": "stream",
     "name": "stderr",
     "output_type": "stream",
     "text": [
      "INFO:py4j.clientserver:Received command c on object id p0\n"
     ]
    },
    {
     "output_type": "stream",
     "name": "stdout",
     "output_type": "stream",
     "text": [
      "Aggregations done\n"
     ]
    }
   ],
   "source": [
    "# Aggregation and derived metrics\n",
    "agg_df = joined_df.groupBy(\"Customer_ID\").agg(\n",
    "    F.count(\"Claim_ID\").alias(\"Total_Claims\"),\n",
    "    F.avg(\"Claim_Amount\").alias(\"Average_Claim_Amount\"),\n",
    "    F.max(\"Claim_Date\").alias(\"Recent_Claim_Date\"),\n",
    "    F.countDistinct(\"Policy_ID\").alias(\"Policy_Count\")\n",
    ")\n",
    "print(\"Aggregations done\")\n"
   ]
  },
  {
   "cell_type": "code",
   "execution_count": 0,
   "metadata": {
    "application/vnd.databricks.v1+cell": {
     "cellMetadata": {
      "byteLimit": 2048000,
      "rowLimit": 10000
     },
     "inputWidgets": {},
     "nuid": "5d14f300-060a-4d23-beb0-255bb4797f45",
     "showTitle": false,
     "tableResultSettingsMap": {},
     "title": ""
    }
   },
   "outputs": [
    {
     "output_type": "stream",
     "name": "stderr",
     "output_type": "stream",
     "text": [
      "INFO:py4j.clientserver:Received command c on object id p0\n"
     ]
    }
   ],
   "source": [
    "insights_df = joined_df.join(agg_df, \"Customer_ID\")"
   ]
  },
  {
   "cell_type": "code",
   "execution_count": 0,
   "metadata": {
    "application/vnd.databricks.v1+cell": {
     "cellMetadata": {
      "byteLimit": 2048000,
      "rowLimit": 10000
     },
     "inputWidgets": {},
     "nuid": "ee8a6a95-fc6f-4292-8ff9-df2067097a53",
     "showTitle": false,
     "tableResultSettingsMap": {},
     "title": ""
    }
   },
   "outputs": [
    {
     "output_type": "stream",
     "name": "stdout",
     "output_type": "stream",
     "text": [
      "+-----------+---------+-----------+-------------+-----------------+---------------+-----------+--------------+------------------+--------------+--------------------+---------------+--------------------+------------+--------------+-------------+-----+-----------+-------------+------+--------------+----------+------------+----------------+--------+----------+----------+------------+------------+------------+------------+-----------+-------------------+-----------------+--------------------+------------------------+-----------------+------------+--------------------+-----------------+------------+\n|customer_id|policy_id|policy_type|policy_status|policy_start_date|policy_end_date|policy_term|policy_premium|total_premium_paid|renewal_status|       policy_addons|  Customer_Name|               Email|Phone_Number|       Address|         City|State|Postal_Code|Date_of_Birth|Gender|Marital_Status|Occupation|Income_Level|Customer_Segment|Claim_ID|Claim_Date|Claim_Type|Claim_Status|Claim_Amount|Claim_Payout|Credit_Score|Fraud_Score|Customer_Risk_Score|Churn_Probability|     Next_Best_Offer|Claims_Fraud_Probability|Revenue_Potential|Total_Claims|Average_Claim_Amount|Recent_Claim_Date|Policy_Count|\n+-----------+---------+-----------+-------------+-----------------+---------------+-----------+--------------+------------------+--------------+--------------------+---------------+--------------------+------------+--------------+-------------+-----+-----------+-------------+------+--------------+----------+------------+----------------+--------+----------+----------+------------+------------+------------+------------+-----------+-------------------+-----------------+--------------------+------------------------+-----------------+------------+--------------------+-----------------+------------+\n|   CUST0004| M4N5O6P7|       Life|    Cancelled|       2020-09-10|     2022-09-10|         24|        1200.0|            2400.0|   Not Renewed|Critical Illness ...|    Emily Davis| emily.d@example.com|333-444-5555|   101 Pine St|      Houston|   TX|      77001|   1995-05-18|Female|        Single|  Designer|     40k-60k|           Basic|CLM00004|2021-10-20|      Life|Under Review|     50000.0|         0.0|         561|          9|              22.11|             0.25|Additional Life C...|                     0.1|          12000.0|           1|             50000.0|       2021-10-20|           1|\n|   CUST0015| E5F7G8H9|       Home|    Cancelled|       2019-03-01|     2021-03-01|         24|        1200.0|            2400.0|   Not Renewed|    Theft Protection| Isabella White|isabella.w@exampl...|555-777-9999|   1212 Elm St|San Francisco|   CA|      94101|   1988-07-19|Female|        Single|   Analyst|     50k-70k|        Standard|CLM00015|2020-04-05|      Home|   Processed|      7000.0|      7000.0|         507|          0|              96.53|             0.25|Additional Life C...|                     0.1|          12000.0|           1|              7000.0|       2020-04-05|           1|\n|   CUST0010| K2L3M4N5|       Auto|    Cancelled|       2020-08-15|     2021-08-15|         12|         750.0|             750.0|   Not Renewed|     Breakdown Cover|    Emma Thomas|  emma.t@example.com|999-000-1111| 707 Spruce St|       Austin|   TX|      73301|   1987-08-30|Female|        Single|    Writer|     40k-60k|           Basic|CLM00010|2021-03-25|      Auto|   Processed|      3500.0|      3400.0|         740|          5|              51.91|             0.25|Additional Life C...|                     0.1|          12000.0|           1|              3500.0|       2021-03-25|           1|\n|   CUST0007| Y7Z8A1B2|       Home|      Expired|       2020-05-15|     2023-05-15|         36|        1000.0|            3000.0|   Not Renewed|Fire Protection, ...|    David Moore| david.m@example.com|111-222-3333| 404 Walnut St|  San Antonio|   TX|      78201|   1980-01-20|  Male|       Married|Consultant|     70k-90k|        Standard|CLM00007|2022-01-10|      Home|   Processed|     10000.0|      9500.0|         530|          6|              89.56|             0.25|Additional Life C...|                     0.1|          12000.0|           1|             10000.0|       2022-01-10|           1|\n|   CUST0017| M5N6O7P8|     Health|       Active|       2021-11-20|     2022-11-20|         12|         550.0|             550.0|       Renewed|    Wellness Package|      Ava Lewis|   ava.l@example.com|777-999-1111| 1414 Cedar St|      Orlando|   FL|      32801|   1993-06-11|Female|        Single|   Teacher|     40k-60k|           Basic|CLM00017|2022-02-01|    Health|   Processed|      1200.0|      1150.0|         842|          9|              75.31|             0.25|Additional Life C...|                     0.1|          12000.0|           1|              1200.0|       2022-02-01|           1|\n|   CUST0019| U4V5W6X7|       Home|       Active|       2022-06-15|     2025-06-15|         36|        1250.0|            3750.0|       Renewed|Flood Protection,...|       Mia Hall|   mia.h@example.com|999-111-3333| 1616 Birch St|    Las Vegas|   NV|      89101|   1995-10-30|Female|        Single|     Nurse|     50k-70k|           Basic|CLM00019|2022-08-01|      Home|   Processed|     15000.0|     14500.0|         358|          2|               6.25|             0.25|Additional Life C...|                     0.1|          12000.0|           1|             15000.0|       2022-08-01|           1|\n|   CUST0012| S1T2U3V4|       Life|       Active|       2023-05-01|     2043-05-01|        240|        2500.0|            5000.0|       Renewed|Critical Illness ...| William Garcia|william.g@example...|222-444-6666|    909 Fir St|      Seattle|   WA|      98101|   1990-05-25|  Male|        Single|    Lawyer|   100k-120k|         Premium|CLM00012|2023-06-01|      Life|   Processed|     60000.0|     59000.0|         691|          2|              90.99|             0.25|Additional Life C...|                     0.1|          12000.0|           1|             60000.0|       2023-06-01|           1|\n|   CUST0009| G7H8I9J1|     Health|       Active|       2022-10-01|     2023-10-01|         12|         600.0|             600.0|       Renewed|    Wellness Package| James Anderson| james.a@example.com|666-777-8888| 606 Cherry St|       Dallas|   TX|      75201|   1975-02-14|  Male|       Married| Architect|   110k-130k|         Premium|CLM00009|2022-11-01|    Health|Under Review|      1500.0|         0.0|         426|          2|              67.12|             0.25|Additional Life C...|                     0.1|          12000.0|           1|              1500.0|       2022-11-01|           1|\n|   CUST0002| E5F6G7H8|       Auto|      Expired|       2021-06-15|     2022-06-15|         12|         700.0|             700.0|   Not Renewed|Accident Cover, B...|     Jane Smith|jane.smith@exampl...|987-654-3210|    456 Elm St|  Los Angeles|   CA|      90001|   1990-03-22|Female|        Single|   Teacher|     50k-70k|        Standard|CLM00002|2021-07-10|      Auto|    Rejected|      3000.0|         0.0|         519|          6|              70.07|             0.25|Additional Life C...|                     0.1|          12000.0|           1|              3000.0|       2021-07-10|           1|\n|   CUST0005| Q8R9S1T2|     Health|       Active|       2023-07-01|     2024-07-01|         12|         450.0|             450.0|       Pending|    Wellness Package|  Michael Brown|michael.b@example...|777-888-9999|  202 Cedar St|      Phoenix|   AZ|      85001|   1982-09-12|  Male|       Married| Developer|    90k-110k|         Premium|CLM00005|2023-08-01|    Health|   Processed|       900.0|       850.0|         773|          7|              21.12|             0.25|Additional Life C...|                     0.1|          12000.0|           1|               900.0|       2023-08-01|           1|\n|   CUST0006| U3V4W5X6|       Auto|       Active|       2022-11-01|     2024-11-01|         24|         800.0|            1600.0|       Renewed|      Accident Cover|   Sarah Wilson| sarah.w@example.com|222-333-4444|  303 Birch St| Philadelphia|   PA|      19019|   1988-12-25|Female|        Single|   Analyst|     60k-80k|        Standard|CLM00006|2023-06-15|      Auto|    Rejected|      1800.0|         0.0|         635|          5|               62.9|             0.25|Additional Life C...|                     0.1|          12000.0|           1|              1800.0|       2023-06-15|           1|\n|   CUST0018| Q9R1S2T3|       Auto|      Expired|       2020-04-01|     2021-04-01|         12|         780.0|             780.0|   Not Renewed|     Breakdown Cover|   Ethan Walker| ethan.w@example.com|888-000-2222|  1515 Pine St|    Charlotte|   NC|      28201|   1982-02-02|  Male|       Married|Consultant|     70k-90k|        Standard|CLM00018|2020-05-15|      Auto|    Rejected|     10000.0|         0.0|         845|          2|              68.72|             0.25|Additional Life C...|                     0.1|          12000.0|           1|             10000.0|       2020-05-15|           1|\n|   CUST0008| C3D4E5F6|       Life|       Active|       2021-02-01|     2031-02-01|        120|        2000.0|            8000.0|       Renewed|Critical Illness ...|   Laura Taylor| laura.t@example.com|444-555-6666|  505 Maple St|    San Diego|   CA|      92101|   1992-07-08|Female|        Single|     Nurse|     50k-70k|           Basic|CLM00008|2022-12-20|      Life|   Processed|     75000.0|     75000.0|         670|          0|              69.48|             0.25|Additional Life C...|                     0.1|          12000.0|           1|             75000.0|       2022-12-20|           1|\n|   CUST0014| A9B2C3D4|       Auto|       Active|       2022-02-15|     2024-02-15|         24|         850.0|            1700.0|       Renewed|      Accident Cover|  Liam Thompson|  liam.t@example.com|444-666-8888|  1111 Palm St|       Boston|   MA|       2101|   1979-11-08|  Male|       Married|  Engineer|    80k-100k|         Premium|CLM00014|2022-09-01|      Auto|Under Review|      5000.0|         0.0|         393|          9|              12.46|             0.25|Additional Life C...|                     0.1|          12000.0|           1|              5000.0|       2022-09-01|           1|\n|   CUST0001| A1B2C3D4|     Health|       Active|       2023-01-01|     2024-01-01|         12|         500.0|             500.0|       Renewed| Roadside Assistance|       John Doe|john.doe@example.com|123-456-7890|   123 Main St|     New York|   NY|      10001|   1985-07-15|  Male|       Married|  Engineer|    80k-100k|         Premium|CLM00001|2023-02-15|    Health|   Processed|      1200.0|      1100.0|         779|          2|              88.34|             0.25|Additional Life C...|                     0.1|          12000.0|           1|              1200.0|       2023-02-15|           1|\n|   CUST0013| W5X6Y7Z8|     Health|      Expired|       2020-01-01|     2021-01-01|         12|         400.0|             400.0|   Not Renewed| Roadside Assistance|Olivia Martinez|olivia.m@example.com|333-555-7777| 1010 Aspen St|        Miami|   FL|      33101|   1994-12-15|Female|        Single|  Designer|     40k-60k|           Basic|CLM00013|2020-08-20|    Health|   Processed|      2000.0|      1900.0|         832|          2|              33.02|             0.25|Additional Life C...|                     0.1|          12000.0|           1|              2000.0|       2020-08-20|           1|\n|   CUST0003| I9J1K2L3|       Home|       Active|       2022-03-20|     2025-03-20|         36|        1500.0|            3000.0|       Renewed|Flood Protection,...| Robert Johnson|robert.j@example.com|555-666-7777|    789 Oak St|      Chicago|   IL|      60601|   1978-11-05|  Male|       Married|   Manager|   100k-120k|         Premium|CLM00003|2022-04-05|      Home|   Processed|      2500.0|      2500.0|         521|         10|              52.77|             0.25|Additional Life C...|                     0.1|          12000.0|           1|              2500.0|       2022-04-05|           1|\n|   CUST0016| I1J2K3L4|       Life|      Expired|       2018-09-10|     2023-09-10|         60|        3000.0|           15000.0|   Not Renewed|      Accident Cover|     Noah Clark|  noah.c@example.com|666-888-0000|   1313 Oak St|      Atlanta|   GA|      30301|   1976-09-23|  Male|       Married|   Manager|   100k-120k|         Premium|CLM00016|2023-01-10|      Life|   Processed|     40000.0|     39000.0|         369|          6|               27.0|             0.25|Additional Life C...|                     0.1|          12000.0|           1|             40000.0|       2023-01-10|           1|\n|   CUST0020| Y8Z9A1B3|       Life|    Cancelled|       2019-10-01|     2021-10-01|         24|        1300.0|            2600.0|   Not Renewed|Critical Illness ...|    Logan Young| logan.y@example.com|000-222-4444| 1717 Maple St|    Nashville|   TN|      37201|   1983-08-14|  Male|       Married| Developer|    90k-110k|         Premium|CLM00020|2021-11-10|      Life|Under Review|     50000.0|         0.0|         435|          7|              57.07|             0.25|Additional Life C...|                     0.1|          12000.0|           1|             50000.0|       2021-11-10|           1|\n|   CUST0011| O6P7Q8R9|       Home|      Expired|       2019-12-01|     2022-12-01|         36|        1100.0|            3300.0|   Not Renewed|     Fire Protection|  Sophia Martin|sophia.m@example.com|111-333-5555|808 Cypress St|       Denver|   CO|      80201|   1985-03-10|Female|       Married|Accountant|     60k-80k|        Standard|CLM00011|2020-12-15|      Home|    Rejected|      8000.0|         0.0|         464|          4|              13.87|             0.25|Additional Life C...|                     0.1|          12000.0|           1|              8000.0|       2020-12-15|           1|\n+-----------+---------+-----------+-------------+-----------------+---------------+-----------+--------------+------------------+--------------+--------------------+---------------+--------------------+------------+--------------+-------------+-----+-----------+-------------+------+--------------+----------+------------+----------------+--------+----------+----------+------------+------------+------------+------------+-----------+-------------------+-----------------+--------------------+------------------------+-----------------+------------+--------------------+-----------------+------------+\n\n"
     ]
    }
   ],
   "source": [
    "insights_df.show()"
   ]
  }
 ],
 "metadata": {
  "application/vnd.databricks.v1+notebook": {
   "computePreferences": null,
   "dashboards": [],
   "environmentMetadata": {
    "base_environment": "",
    "environment_version": "2"
   },
   "language": "python",
   "notebookMetadata": {
    "pythonIndentUnit": 4
   },
   "notebookName": "demo_notebook_csv",
   "widgets": {}
  },
  "language_info": {
   "name": "python"
  }
 },
 "nbformat": 4,
 "nbformat_minor": 0
}