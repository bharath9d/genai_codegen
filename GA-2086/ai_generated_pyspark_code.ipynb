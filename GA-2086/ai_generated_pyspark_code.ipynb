{
    "cells": [
        {
            "cell_type": "code",
            "execution_count": null,
            "metadata": {},
            "outputs": [],
            "source": [
                "# COMMAND ----------\nimport logging\nfrom pyspark.sql import functions as F\nfrom pyspark.sql.types import DoubleType, IntegerType\nfrom datetime import datetime\n\n# Configure logging\nlogging.basicConfig(level=logging.INFO)\nlogger = logging.getLogger(__name__)\n\n# COMMAND ----------\n# Helper function to calculate age\ndef calculate_age(birth_date):\n    today = datetime.today()\n    return today.year - birth_date.year - ((today.month, today.day) < (birth_date.month, birth_date.day))\n\n# Register UDFs\ncalculate_age_udf = F.udf(calculate_age, IntegerType())\n\ndef claim_to_premium_ratio(claim_amount, total_premium_paid):\n    return claim_amount / total_premium_paid if total_premium_paid != 0 else 0\n\nclaim_to_premium_ratio_udf = F.udf(claim_to_premium_ratio, DoubleType())\n\ndef claims_per_policy(total_claims, policy_count):\n    return total_claims / policy_count if policy_count != 0 else 0\n\nclaims_per_policy_udf = F.udf(claims_per_policy, DoubleType())\n\n# COMMAND ----------\n# Load data from Unity Catalog tables\ntry:\n    policy_df = spark.table(\"catalog.source_db.policy_data\")\n    claims_df = spark.table(\"catalog.source_db.claims_data\")\n    demographics_df = spark.table(\"catalog.source_db.demographics_data\")\n    scores_df = spark.table(\"catalog.source_db.scores_data\")\n    aiml_insights_df = spark.table(\"catalog.source_db.aiml_insights_data\")\n    logger.info(\"Data loaded successfully from Unity Catalog tables.\")\nexcept Exception as e:\n    logger.error(f\"Error loading data from Unity Catalog tables: {e}\")\n    raise\n\n# COMMAND ----------\n# Data Selection and Filtering\ntry:\n    demographics_df = demographics_df.select(\n        \"Customer_ID\", \"Customer_Name\", \"Email\", \"Phone_Number\", \"Address\", \"City\", \"State\", \"Postal_Code\",\n        \"Date_of_Birth\", \"Gender\", \"Marital_Status\", \"Occupation\", \"Income_Level\", \"Customer_Segment\"\n    )\n    logger.info(\"Demographics data selected successfully.\")\nexcept Exception as e:\n    logger.error(f\"Error selecting demographics data: {e}\")\n    raise\n\n# COMMAND ----------\n# Data Integration\ntry:\n    joined_df = demographics_df.join(policy_df, demographics_df.Customer_ID == policy_df.customer_id, \"inner\")\n    logger.info(\"Data joined successfully between demographics and policy data.\")\nexcept Exception as e:\n    logger.error(f\"Error joining demographics and policy data: {e}\")\n    raise\n\n# COMMAND ----------\n# Further join with claims data\ntry:\n    joined_df = joined_df.join(claims_df, joined_df.policy_id == claims_df.Policy_ID, \"inner\")\n    logger.info(\"Data joined successfully with claims data.\")\nexcept Exception as e:\n    logger.error(f\"Error joining with claims data: {e}\")\n    raise\n\n# COMMAND ----------\n# Data Aggregation\ntry:\n    aggregated_df = joined_df.groupBy(\"Customer_ID\").agg(\n        F.count(\"Claim_ID\").alias(\"Total_Claims\"),\n        F.countDistinct(\"policy_id\").alias(\"Policy_Count\"),\n        F.max(\"Claim_Date\").alias(\"Recent_Claim_Date\"),\n        F.avg(\"Claim_Amount\").alias(\"Average_Claim_Amount\")\n    )\n    logger.info(\"Data aggregated successfully.\")\nexcept Exception as e:\n    logger.error(f\"Error aggregating data: {e}\")\n    raise\n\n# COMMAND ----------\n# Custom Calculations\ntry:\n    final_df = aggregated_df.withColumn(\"Age\", calculate_age_udf(F.col(\"Date_of_Birth\"))) \\\n                            .withColumn(\"Claim_To_Premium_Ratio\", claim_to_premium_ratio_udf(F.col(\"Claim_Amount\"), F.col(\"total_premium_paid\"))) \\\n                            .withColumn(\"Claims_Per_Policy\", claims_per_policy_udf(F.col(\"Total_Claims\"), F.col(\"Policy_Count\"))) \\\n                            .withColumn(\"Retention_Rate\", F.lit(0.85)) \\\n                            .withColumn(\"Cross_Sell_Opportunities\", F.lit(\"Multi-Policy Discount, Home Coverage Add-on\")) \\\n                            .withColumn(\"Upsell_Potential\", F.lit(\"Premium Vehicle Coverage\"))\n    logger.info(\"Custom calculations applied successfully.\")\nexcept Exception as e:\n    logger.error(f\"Error applying custom calculations: {e}\")\n    raise\n\n# COMMAND ----------\n# Comprehensive Data Assembly\ntry:\n    comprehensive_df = final_df.join(scores_df, \"Customer_ID\", \"inner\").join(aiml_insights_df, \"Customer_ID\", \"inner\")\n    logger.info(\"Comprehensive data assembly completed successfully.\")\nexcept Exception as e:\n    logger.error(f\"Error in comprehensive data assembly: {e}\")\n    raise\n\n# COMMAND ----------\n# Output Data\ntry:\n    comprehensive_df.write.format(\"delta\").mode(\"overwrite\").saveAsTable(\"catalog.target_db.customer_360\")\n    logger.info(\"Data written successfully to Unity Catalog target table.\")\nexcept Exception as e:\n    logger.error(f\"Error writing data to Unity Catalog target table: {e}\")\n    raise\n"
            ]
        }
    ],
    "metadata": {
        "kernelspec": {
            "display_name": "Python 3",
            "language": "python",
            "name": "python3"
        },
        "language_info": {
            "codemirror_mode": {
                "name": "ipython",
                "version": 3
            },
            "file_extension": ".py",
            "mimetype": "text/x-python",
            "name": "python",
            "nbconvert_exporter": "python",
            "pygments_lexer": "ipython3",
            "version": "3.x"
        }
    },
    "nbformat": 4,
    "nbformat_minor": 5
}