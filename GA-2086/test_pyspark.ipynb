{
    "cells": [
        {
            "cell_type": "code",
            "execution_count": null,
            "metadata": {},
            "outputs": [],
            "source": [
                "# Databricks notebook source\n# MAGIC %md\n# MAGIC # ETL Process for Customer 360 Data\n# MAGIC This notebook performs an ETL process to create a Customer 360 dataset using data from Unity Catalog tables.\n\n# COMMAND ----------\n\nimport logging\nfrom pyspark.sql import SparkSession\nfrom pyspark.sql.functions import count, avg, max, when, col, datediff, current_date, lit, broadcast\n\n# Configure logging\nlogging.basicConfig(level=logging.INFO)\nlogger = logging.getLogger(__name__)\n\n# COMMAND ----------\n\n# MAGIC %md\n# MAGIC ## Step 1: Data Ingestion\n# MAGIC Load data from Unity Catalog tables.\n\n# COMMAND ----------\n\ntry:\n    logger.info(\"Loading data from Unity Catalog tables\")\n    policy_df = spark.table(\"catalog.source_db.policy\")\n    claims_df = spark.table(\"catalog.source_db.claims\")\n    demographics_df = spark.table(\"catalog.source_db.demographics\")\n    scores_df = spark.table(\"catalog.source_db.scores\")\n    aiml_insights_df = spark.table(\"catalog.source_db.aiml_insights\")\n\n# COMMAND ----------\n\n# MAGIC %md\n# MAGIC ## Step 2: Data Selection and Filtering\n# MAGIC Select relevant fields from each dataset.\n\n# COMMAND ----------\n\n    logger.info(\"Selecting relevant fields from each dataset\")\n    selected_demographics_df = demographics_df.select(\n        \"Customer_ID\", \"Customer_Name\", \"Email\", \"Phone_Number\", \"Address\", \"City\", \"State\", \"Postal_Code\",\n        \"Date_of_Birth\", \"Gender\", \"Marital_Status\", \"Occupation\", \"Income_Level\", \"Customer_Segment\"\n    )\n    selected_claims_df = claims_df.select(\n        \"Claim_ID\", \"Policy_ID\", \"Claim_Date\", \"Claim_Type\", \"Claim_Status\", \"Claim_Amount\", \"Claim_Payout\"\n    )\n    selected_policy_df = policy_df.select(\n        \"policy_id\", \"customer_id\", \"policy_type\", \"policy_status\", \"policy_start_date\", \"policy_end_date\",\n        \"policy_term\", \"policy_premium\", \"total_premium_paid\", \"renewal_status\", \"policy_addons\"\n    )\n\n# COMMAND ----------\n\n# MAGIC %md\n# MAGIC ## Step 3: Data Integration\n# MAGIC Join datasets based on key identifiers.\n\n# COMMAND ----------\n\n    logger.info(\"Joining datasets based on key identifiers\")\n    joined_df = selected_demographics_df.join(\n        selected_policy_df, selected_demographics_df.Customer_ID == selected_policy_df.customer_id, \"inner\"\n    ).join(\n        selected_claims_df, selected_policy_df.policy_id == selected_claims_df.Policy_ID, \"inner\"\n    )\n\n    # Cache the joined DataFrame if it will be reused\n    joined_df.cache()\n\n# COMMAND ----------\n\n# MAGIC %md\n# MAGIC ## Step 4: Data Aggregation\n# MAGIC Compute aggregate metrics.\n\n# COMMAND ----------\n\n    logger.info(\"Computing aggregate metrics\")\n    aggregated_df = joined_df.groupBy(\"Customer_ID\").agg(\n        count(\"Claim_ID\").alias(\"Total_Claims\"),\n        count(\"policy_id\").alias(\"Policy_Count\"),\n        max(\"Claim_Date\").alias(\"Recent_Claim_Date\"),\n        avg(\"Claim_Amount\").alias(\"Average_Claim_Amount\")\n    )\n\n# COMMAND ----------\n\n# MAGIC %md\n# MAGIC ## Step 5: Custom Calculations\n# MAGIC Derive additional insights.\n\n# COMMAND ----------\n\n    logger.info(\"Deriving additional insights\")\n    final_df = aggregated_df.withColumn(\"Age\", datediff(current_date(), col(\"Date_of_Birth\")) / 365) \\\n        .withColumn(\"Claim_To_Premium_Ratio\", when(col(\"total_premium_paid\") != 0, col(\"Claim_Amount\") / col(\"total_premium_paid\")).otherwise(0)) \\\n        .withColumn(\"Claims_Per_Policy\", when(col(\"Policy_Count\") != 0, col(\"Total_Claims\") / col(\"Policy_Count\")).otherwise(0)) \\\n        .withColumn(\"Retention_Rate\", lit(0.85)) \\\n        .withColumn(\"Cross_Sell_Opportunities\", lit(\"Multi-Policy Discount, Home Coverage Add-on\")) \\\n        .withColumn(\"Upsell_Potential\", lit(\"Premium Vehicle Coverage\"))\n\n# COMMAND ----------\n\n# MAGIC %md\n# MAGIC ## Step 6: Final Data Assembly\n# MAGIC Combine all transformed data into a single dataset.\n\n# COMMAND ----------\n\n    logger.info(\"Combining all transformed data into a single dataset\")\n    # Use broadcast join if scores_df or aiml_insights_df are small\n    final_customer_360_df = final_df.join(broadcast(scores_df), \"Customer_ID\", \"inner\") \\\n        .join(broadcast(aiml_insights_df), \"Customer_ID\", \"inner\")\n\n# COMMAND ----------\n\n# MAGIC %md\n# MAGIC ## Step 7: Output Data\n# MAGIC Write the final dataset to Unity Catalog table.\n\n# COMMAND ----------\n\n    logger.info(\"Writing the final dataset to Unity Catalog table\")\n    final_customer_360_df.write.format(\"delta\").mode(\"overwrite\").saveAsTable(\"catalog.target_db.customer_360\")\n\n    logger.info(\"ETL process completed successfully\")\n\nexcept Exception as e:\n    logger.error(\"An error occurred during the ETL process\", exc_info=True)\n"
            ]
        }
    ],
    "metadata": {
        "kernelspec": {
            "display_name": "Python 3",
            "language": "python",
            "name": "python3"
        },
        "language_info": {
            "codemirror_mode": {
                "name": "ipython",
                "version": 3
            },
            "file_extension": ".py",
            "mimetype": "text/x-python",
            "name": "python",
            "nbconvert_exporter": "python",
            "pygments_lexer": "ipython3",
            "version": "3.x"
        }
    },
    "nbformat": 4,
    "nbformat_minor": 5
}