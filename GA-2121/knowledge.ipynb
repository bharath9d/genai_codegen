{
    "cells": [
        {
            "cell_type": "code",
            "execution_count": null,
            "metadata": {},
            "outputs": [],
            "source": [
                "# Databricks notebook source\n# MAGIC %md\n# MAGIC # ETL Process for Customer 360 View\n# MAGIC This notebook performs an ETL process to create a comprehensive Customer 360 view by integrating data from multiple sources.\n\n# COMMAND ----------\n\nimport logging\nfrom pyspark.sql import functions as F\nfrom pyspark.sql.types import DateType, DoubleType, IntegerType\n\n# Configure logging\nlogging.basicConfig(level=logging.INFO)\nlogger = logging.getLogger(__name__)\n\n# COMMAND ----------\n\ntry:\n    # Load data from Unity Catalog tables\n    logger.info(\"Loading data from Unity Catalog tables.\")\n    policy_df = spark.table(\"catalog.source_db.policy\")\n    claims_df = spark.table(\"catalog.source_db.claims\")\n    demographics_df = spark.table(\"catalog.source_db.demographics\")\n    scores_df = spark.table(\"catalog.source_db.scores\")\n    aiml_insights_df = spark.table(\"catalog.source_db.aiml_insights\")\n\n# COMMAND ----------\n\n    # Data Selection and Filtering\n    logger.info(\"Selecting relevant fields from each dataset.\")\n    demographics_selected = demographics_df.select(\n        \"Customer_ID\", \"Customer_Name\", \"Email\", \"Phone_Number\", \"Address\", \"City\", \"State\", \"Postal_Code\",\n        F.col(\"Date_of_Birth\").cast(DateType()), \"Gender\", \"Marital_Status\", \"Occupation\", \"Income_Level\", \"Customer_Segment\"\n    )\n    claims_selected = claims_df.select(\n        \"Claim_ID\", \"Policy_ID\", F.col(\"Claim_Date\").cast(DateType()), \"Claim_Type\", \"Claim_Status\",\n        F.col(\"Claim_Amount\").cast(DoubleType()), F.col(\"Claim_Payout\").cast(DoubleType())\n    )\n    policy_selected = policy_df.select(\n        \"policy_id\", \"customer_id\", \"policy_type\", \"policy_status\",\n        F.col(\"policy_start_date\").cast(DateType()), F.col(\"policy_end_date\").cast(DateType()),\n        F.col(\"policy_term\").cast(IntegerType()), F.col(\"policy_premium\").cast(DoubleType()),\n        F.col(\"total_premium_paid\").cast(DoubleType()), \"renewal_status\", \"policy_addons\"\n    )\n\n# COMMAND ----------\n\n    # Data Integration\n    logger.info(\"Joining datasets based on common identifiers.\")\n    joined_df = demographics_selected.join(policy_selected, demographics_selected.Customer_ID == policy_selected.customer_id, \"inner\") \\\n                                     .join(claims_selected, policy_selected.policy_id == claims_selected.Policy_ID, \"inner\")\n\n# COMMAND ----------\n\n    # Data Aggregation\n    logger.info(\"Computing aggregate metrics.\")\n    aggregated_df = joined_df.groupBy(\"Customer_ID\").agg(\n        F.count(\"Claim_ID\").alias(\"Total_Claims\"),\n        F.countDistinct(\"policy_id\").alias(\"Policy_Count\"),\n        F.max(\"Claim_Date\").alias(\"Recent_Claim_Date\"),\n        F.avg(\"Claim_Amount\").alias(\"Average_Claim_Amount\")\n    )\n\n# COMMAND ----------\n\n    # Custom Calculations\n    logger.info(\"Implementing custom calculations.\")\n    final_df = aggregated_df.withColumn(\"Age\", F.datediff(F.current_date(), F.to_date(\"Date_of_Birth\")) / 365) \\\n                            .withColumn(\"Claim_To_Premium_Ratio\", F.when(F.col(\"total_premium_paid\") != 0, F.col(\"Claim_Amount\") / F.col(\"total_premium_paid\")).otherwise(0)) \\\n                            .withColumn(\"Claims_Per_Policy\", F.when(F.col(\"Policy_Count\") != 0, F.col(\"Total_Claims\") / F.col(\"Policy_Count\")).otherwise(0)) \\\n                            .withColumn(\"Retention_Rate\", F.lit(0.85)) \\\n                            .withColumn(\"Cross_Sell_Opportunities\", F.lit(\"Multi-Policy Discount, Home Coverage Add-on\")) \\\n                            .withColumn(\"Upsell_Potential\", F.lit(\"Premium Vehicle Coverage\"))\n\n# COMMAND ----------\n\n    # Comprehensive Data Consolidation\n    logger.info(\"Combining all data sources into a single view.\")\n    customer_360_df = final_df.join(scores_df, \"Customer_ID\", \"inner\") \\\n                              .join(aiml_insights_df, \"Customer_ID\", \"inner\")\n\n# COMMAND ----------\n\n    # Output Generation\n    logger.info(\"Writing the final output to Unity Catalog table.\")\n    customer_360_df.write.format(\"delta\").mode(\"overwrite\").saveAsTable(\"catalog.target_db.customer_360\")\n\n    logger.info(\"ETL process completed successfully.\")\n\nexcept Exception as e:\n    logger.error(\"An error occurred during the ETL process.\", exc_info=True)\n"
            ]
        }
    ],
    "metadata": {
        "kernelspec": {
            "display_name": "Python 3",
            "language": "python",
            "name": "python3"
        },
        "language_info": {
            "codemirror_mode": {
                "name": "ipython",
                "version": 3
            },
            "file_extension": ".py",
            "mimetype": "text/x-python",
            "name": "python",
            "nbconvert_exporter": "python",
            "pygments_lexer": "ipython3",
            "version": "3.x"
        }
    },
    "nbformat": 4,
    "nbformat_minor": 5
}