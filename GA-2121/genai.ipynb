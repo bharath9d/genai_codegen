{
    "cells": [
        {
            "cell_type": "code",
            "execution_count": null,
            "metadata": {},
            "outputs": [],
            "source": [
                "# Databricks notebook source\n# MAGIC %md\n# MAGIC # ETL Process for Customer 360 View\n# MAGIC This notebook performs an ETL process to consolidate data from various sources into a comprehensive customer 360 view.\n\n# COMMAND ----------\n\nimport logging\nfrom pyspark.sql import functions as F\nfrom pyspark.sql.functions import current_date, datediff, col\n\n# Configure logging\nlogging.basicConfig(level=logging.INFO)\nlogger = logging.getLogger(__name__)\n\n# COMMAND ----------\n\ntry:\n    # Load data from Unity Catalog tables\n    logger.info(\"Loading data from Unity Catalog tables...\")\n    policy_df = spark.table(\"catalog.db.policy_data\")\n    claims_df = spark.table(\"catalog.db.claims_data\")\n    demographics_df = spark.table(\"catalog.db.demographics_data\")\n    scores_df = spark.table(\"catalog.db.scores_data\")\n    aiml_insights_df = spark.table(\"catalog.db.aiml_insights_data\")\n\n# COMMAND ----------\n\n    # Data Selection and Filtering\n    logger.info(\"Selecting relevant fields from demographics data...\")\n    demographics_df = demographics_df.select(\n        \"Customer_ID\", \"Customer_Name\", \"Email\", \"Phone_Number\", \"Address\", \"City\", \"State\", \"Postal_Code\",\n        \"Date_of_Birth\", \"Gender\", \"Marital_Status\", \"Occupation\", \"Income_Level\", \"Customer_Segment\"\n    )\n\n# COMMAND ----------\n\n    # Data Integration\n    logger.info(\"Joining datasets based on common identifiers...\")\n    joined_df = demographics_df.join(policy_df, demographics_df.Customer_ID == policy_df.customer_id, \"inner\") \\\n                               .join(claims_df, policy_df.policy_id == claims_df.Policy_ID, \"inner\")\n\n# COMMAND ----------\n\n    # Data Aggregation\n    logger.info(\"Aggregating data to compute metrics...\")\n    aggregated_df = joined_df.groupBy(\"Customer_ID\").agg(\n        F.count(\"Claim_ID\").alias(\"Total_Claims\"),\n        F.countDistinct(\"policy_id\").alias(\"Policy_Count\"),\n        F.max(\"Claim_Date\").alias(\"Recent_Claim_Date\"),\n        F.avg(\"Claim_Amount\").alias(\"Average_Claim_Amount\")\n    )\n\n# COMMAND ----------\n\n    # Custom Calculations\n    logger.info(\"Performing custom calculations...\")\n    demographics_df = demographics_df.withColumn(\"Age\", (datediff(current_date(), col(\"Date_of_Birth\")) / 365.25).cast(\"int\"))\n    joined_df = joined_df.withColumn(\"Claim_To_Premium_Ratio\", F.when(joined_df.total_premium_paid != 0, joined_df.Claim_Amount / joined_df.total_premium_paid).otherwise(0))\n    aggregated_df = aggregated_df.withColumn(\"Claims_Per_Policy\", F.when(aggregated_df.Policy_Count != 0, aggregated_df.Total_Claims / aggregated_df.Policy_Count).otherwise(0))\n    aggregated_df = aggregated_df.withColumn(\"Retention_Rate\", F.lit(0.85))\n    aggregated_df = aggregated_df.withColumn(\"Cross_Sell_Opportunities\", F.lit(\"Multi-Policy Discount, Home Coverage Add-on\"))\n    aggregated_df = aggregated_df.withColumn(\"Upsell_Potential\", F.lit(\"Premium Vehicle Coverage\"))\n\n# COMMAND ----------\n\n    # Comprehensive Data Consolidation\n    logger.info(\"Consolidating all data sources into a single view...\")\n    final_df = aggregated_df.join(scores_df, \"Customer_ID\", \"inner\") \\\n                            .join(aiml_insights_df, \"Customer_ID\", \"inner\")\n\n# COMMAND ----------\n\n    # Output Handling\n    logger.info(\"Writing the final DataFrame to Unity Catalog as a Delta table...\")\n    final_df.write.format(\"delta\").mode(\"overwrite\").saveAsTable(\"catalog.db.customer_360_view\")\n\n    logger.info(\"ETL process completed successfully.\")\n\nexcept Exception as e:\n    logger.error(\"An error occurred during the ETL process\", exc_info=True)\n"
            ]
        }
    ],
    "metadata": {
        "kernelspec": {
            "display_name": "Python 3",
            "language": "python",
            "name": "python3"
        },
        "language_info": {
            "codemirror_mode": {
                "name": "ipython",
                "version": 3
            },
            "file_extension": ".py",
            "mimetype": "text/x-python",
            "name": "python",
            "nbconvert_exporter": "python",
            "pygments_lexer": "ipython3",
            "version": "3.x"
        }
    },
    "nbformat": 4,
    "nbformat_minor": 5
}