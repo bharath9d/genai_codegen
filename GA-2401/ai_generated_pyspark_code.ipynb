{
    "cells": [
        {
            "cell_type": "code",
            "execution_count": null,
            "metadata": {},
            "outputs": [],
            "source": [
                "# Databricks notebook source\n# Customer 360 Data Processing\n# This notebook processes customer data from Unity Catalog tables, performs data integration, aggregation, and custom calculations, and writes the results back to a Unity Catalog table.\n\n# COMMAND ----------\nimport logging\nfrom pyspark.sql import functions as F\nfrom pyspark.sql.types import DoubleType, DateType\nfrom pyspark.sql.utils import AnalysisException\n\n# Configure logging\nlogging.basicConfig(level=logging.INFO)\nlogger = logging.getLogger(__name__)\n\n# COMMAND ----------\n# Step 1: Data Selection and Filtering\n# Load and select relevant fields from Unity Catalog tables.\n\ntry:\n    logger.info(\"Loading and selecting relevant fields from Unity Catalog tables.\")\n    \n    demographics_df = spark.table(\"genai_demo.jnj.demographics\").select(\n        \"Customer_ID\", \"Customer_Name\", \"Email\", \"Phone_Number\", \"Address\", \"City\", \"State\", \n        \"Postal_Code\", \"Date_of_Birth\", \"Gender\", \"Marital_Status\", \"Occupation\", \n        \"Income_Level\", \"Customer_Segment\"\n    ).withColumn(\"Date_of_Birth\", F.col(\"Date_of_Birth\").cast(DateType()))\n    \n    claims_df = spark.table(\"genai_demo.jnj.claims\").select(\n        \"Claim_ID\", \"Policy_ID\", \"Claim_Date\", \"Claim_Type\", \"Claim_Status\", \n        \"Claim_Amount\", \"Claim_Payout\"\n    ).withColumn(\"Claim_Date\", F.col(\"Claim_Date\").cast(DateType())) \\\n     .withColumn(\"Claim_Amount\", F.col(\"Claim_Amount\").cast(DoubleType()))\n    \n    policy_df = spark.table(\"genai_demo.jnj.policy\").select(\n        \"policy_id\", \"customer_id\", \"policy_type\", \"policy_status\", \"policy_start_date\", \n        \"policy_end_date\", \"policy_term\", \"policy_premium\", \"total_premium_paid\", \n        \"renewal_status\", \"policy_addons\"\n    ).withColumn(\"total_premium_paid\", F.col(\"total_premium_paid\").cast(DoubleType()))\n\n# COMMAND ----------\n# Step 2: Data Integration\n# Join datasets on common identifiers.\n\n    logger.info(\"Joining datasets on common identifiers.\")\n    \n    joined_df = demographics_df.join(\n        policy_df, demographics_df.Customer_ID == policy_df.customer_id, \"inner\"\n    ).drop(policy_df.customer_id)\n    \n    final_joined_df = joined_df.join(\n        claims_df, joined_df.policy_id == claims_df.Policy_ID, \"inner\"\n    ).drop(claims_df.Policy_ID)\n\n# COMMAND ----------\n# Step 3: Data Aggregation\n# Aggregate data to calculate metrics.\n\n    logger.info(\"Aggregating data to calculate metrics.\")\n    \n    aggregated_df = final_joined_df.groupBy(\"Customer_ID\").agg(\n        F.count(\"Claim_ID\").alias(\"Total_Claims\"),\n        F.count(\"policy_id\").alias(\"Policy_Count\"),\n        F.max(\"Claim_Date\").alias(\"Recent_Claim_Date\"),\n        F.avg(\"Claim_Amount\").alias(\"Average_Claim_Amount\")\n    )\n\n# COMMAND ----------\n# Step 4: Custom Calculations\n# Perform custom calculations on the aggregated data.\n\n    logger.info(\"Performing custom calculations.\")\n    \n    final_df = aggregated_df.withColumn(\n        \"Age\", F.datediff(F.current_date(), F.col(\"Date_of_Birth\")) / 365\n    ).withColumn(\n        \"Claim_To_Premium_Ratio\", \n        F.when(F.col(\"total_premium_paid\") != 0, F.col(\"Average_Claim_Amount\") / F.col(\"total_premium_paid\")).otherwise(0)\n    ).withColumn(\n        \"Claims_Per_Policy\", \n        F.when(F.col(\"Policy_Count\") != 0, F.col(\"Total_Claims\") / F.col(\"Policy_Count\")).otherwise(0)\n    ).withColumn(\n        \"Retention_Rate\", F.lit(0.85)\n    ).withColumn(\n        \"Cross_Sell_Opportunities\", F.lit(\"Multi-Policy Discount, Home Coverage Add-on\")\n    ).withColumn(\n        \"Upsell_Potential\", F.lit(\"Premium Vehicle Coverage\")\n    )\n\n# COMMAND ----------\n# Step 5: Output Generation\n# Write the final DataFrame to a Unity Catalog table.\n\n    logger.info(\"Writing the final DataFrame to Unity Catalog table.\")\n    \n    final_df.write.format(\"delta\").mode(\"overwrite\").saveAsTable(\"genai_demo.jnj.customer_360\")\n\n    logger.info(\"Data successfully written to Unity Catalog table.\")\n\nexcept AnalysisException as e:\n    logger.error(f\"AnalysisException occurred: {e}\")\nexcept Exception as e:\n    logger.error(f\"An unexpected error occurred: {e}\")\n"
            ]
        }
    ],
    "metadata": {
        "kernelspec": {
            "display_name": "Python 3",
            "language": "python",
            "name": "python3"
        },
        "language_info": {
            "codemirror_mode": {
                "name": "ipython",
                "version": 3
            },
            "file_extension": ".py",
            "mimetype": "text/x-python",
            "name": "python",
            "nbconvert_exporter": "python",
            "pygments_lexer": "ipython3",
            "version": "3.x"
        }
    },
    "nbformat": 4,
    "nbformat_minor": 5
}