{
    "cells": [
        {
            "cell_type": "code",
            "execution_count": null,
            "metadata": {},
            "outputs": [],
            "source": [
                "# Databricks notebook source\n# MAGIC %md\n# MAGIC # Data Processing with PySpark\n# MAGIC This notebook demonstrates a data processing pipeline using PySpark, including data loading, selection, integration, aggregation, and custom calculations.\n\n# COMMAND ----------\n\nimport logging\nfrom pyspark.sql import functions as F\n\n# Configure logging\nlogging.basicConfig(level=logging.INFO)\nlogger = logging.getLogger(__name__)\n\n# COMMAND ----------\n\n# MAGIC %md\n# MAGIC ## Step 1: Data Loading\n# MAGIC Load data from Unity Catalog tables.\n\n# COMMAND ----------\n\ntry:\n    logger.info(\"Loading data from Unity Catalog tables.\")\n    policy_df = spark.table(\"genai_demo.jnj.policy\")\n    claims_df = spark.table(\"genai_demo.jnj.claims\")\n    demographics_df = spark.table(\"genai_demo.jnj.demographics\")\n    scores_df = spark.table(\"genai_demo.jnj.scores\")\n    aiml_insights_df = spark.table(\"genai_demo.jnj.aiml_insights\")\n\n# COMMAND ----------\n\n# MAGIC %md\n# MAGIC ## Step 2: Data Selection and Filtering\n# MAGIC Select relevant fields from each dataset.\n\n# COMMAND ----------\n\n    logger.info(\"Selecting relevant fields from each dataset.\")\n    selected_demographics_df = demographics_df.select(\n        \"Customer_ID\", \"Customer_Name\", \"Email\", \"Phone_Number\", \"Address\", \"City\", \n        \"State\", \"Postal_Code\", \"Date_of_Birth\", \"Gender\", \"Marital_Status\", \n        \"Occupation\", \"Income_Level\", \"Customer_Segment\"\n    )\n\n    selected_claims_df = claims_df.select(\n        \"Claim_ID\", \"Policy_ID\", \"Claim_Date\", \"Claim_Type\", \"Claim_Status\", \n        \"Claim_Amount\", \"Claim_Payout\"\n    )\n\n# COMMAND ----------\n\n# MAGIC %md\n# MAGIC ## Step 3: Data Integration\n# MAGIC Join datasets on common identifiers.\n\n# COMMAND ----------\n\n    logger.info(\"Joining datasets on common identifiers.\")\n    joined_df = selected_demographics_df.join(\n        policy_df, selected_demographics_df.Customer_ID == policy_df.customer_id, \"inner\"\n    ).join(\n        selected_claims_df, policy_df.policy_id == selected_claims_df.Policy_ID, \"inner\"\n    )\n\n# COMMAND ----------\n\n# MAGIC %md\n# MAGIC ## Step 4: Data Aggregation\n# MAGIC Aggregate data to calculate metrics.\n\n# COMMAND ----------\n\n    logger.info(\"Aggregating data to calculate metrics.\")\n    aggregated_df = joined_df.groupBy(\"Customer_ID\").agg(\n        F.count(\"Claim_ID\").alias(\"Total_Claims\"),\n        F.count(\"policy_id\").alias(\"Policy_Count\"),\n        F.max(\"Claim_Date\").alias(\"Recent_Claim_Date\"),\n        F.avg(\"Claim_Amount\").alias(\"Average_Claim_Amount\"),\n        F.first(\"Date_of_Birth\").alias(\"Date_of_Birth\"),\n        F.first(\"total_premium_paid\").alias(\"total_premium_paid\")\n    )\n\n# COMMAND ----------\n\n# MAGIC %md\n# MAGIC ## Step 5: Custom Calculations\n# MAGIC Perform custom calculations on the aggregated data.\n\n# COMMAND ----------\n\n    logger.info(\"Performing custom calculations.\")\n    final_df = aggregated_df.withColumn(\n        \"Age\", F.expr(\"DATEDIFF(current_date(), Date_of_Birth) / 365\")\n    ).withColumn(\n        \"Claim_To_Premium_Ratio\", F.expr(\"CASE WHEN total_premium_paid != 0 THEN Average_Claim_Amount / total_premium_paid ELSE 0 END\")\n    ).withColumn(\n        \"Claims_Per_Policy\", F.expr(\"CASE WHEN Policy_Count != 0 THEN Total_Claims / Policy_Count ELSE 0 END\")\n    ).withColumn(\n        \"Retention_Rate\", F.lit(0.85)\n    ).withColumn(\n        \"Cross_Sell_Opportunities\", F.lit(\"Multi-Policy Discount, Home Coverage Add-on\")\n    ).withColumn(\n        \"Upsell_Potential\", F.lit(\"Premium Vehicle Coverage\")\n    )\n\n# COMMAND ----------\n\n# MAGIC %md\n# MAGIC ## Step 6: Final Output\n# MAGIC Write the final DataFrame to a Unity Catalog table.\n\n# COMMAND ----------\n\n    logger.info(\"Writing the final DataFrame to a Unity Catalog table.\")\n    spark.sql(\"DROP TABLE IF EXISTS genai_demo.guardian.customer_360\")\n    final_df.write.format(\"delta\").mode(\"overwrite\").saveAsTable(\"genai_demo.guardian.customer_360\")\n\nexcept Exception as e:\n    logger.error(\"An error occurred during the ETL process: %s\", e)\n    raise\n"
            ]
        }
    ],
    "metadata": {
        "kernelspec": {
            "display_name": "Python 3",
            "language": "python",
            "name": "python3"
        },
        "language_info": {
            "codemirror_mode": {
                "name": "ipython",
                "version": 3
            },
            "file_extension": ".py",
            "mimetype": "text/x-python",
            "name": "python",
            "nbconvert_exporter": "python",
            "pygments_lexer": "ipython3",
            "version": "3.x"
        }
    },
    "nbformat": 4,
    "nbformat_minor": 5
}