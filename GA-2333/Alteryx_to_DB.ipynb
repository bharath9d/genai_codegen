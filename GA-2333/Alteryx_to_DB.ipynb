{
    "cells": [
        {
            "cell_type": "code",
            "execution_count": null,
            "metadata": {},
            "outputs": [],
            "source": [
                "# Databricks notebook source\n# MAGIC %md\n# MAGIC # Customer 360 ETL Process\n# MAGIC This notebook performs an ETL process to create a comprehensive view of customer data by integrating various data sources.\n\n# COMMAND ----------\n\nimport pyspark.sql.functions as F\nimport logging\n\n# Configure logging\nlogging.basicConfig(level=logging.INFO)\nlogger = logging.getLogger(__name__)\n\n# COMMAND ----------\n\ntry:\n    # Step 1: Data Source Configuration\n    logger.info(\"Loading data from Unity Catalog tables...\")\n    claims_df = spark.table(\"genai_demo.guardian.claims\")\n    demographics_df = spark.table(\"genai_demo.guardian.demographics\")\n    policy_df = spark.table(\"genai_demo.guardian.policy\")\n    scores_df = spark.table(\"genai_demo.guardian.scores\")\n    aiml_insights_df = spark.table(\"genai_demo.guardian.aiml_insights\")\n\n# COMMAND ----------\n\n    # Step 2: Data Selection and Filtering\n    logger.info(\"Selecting relevant fields from demographics and claims data...\")\n    selected_demographics_df = demographics_df.select(\n        \"Customer_ID\", \"Customer_Name\", \"Email\", \"Phone_Number\", \"Address\", \"City\", \"State\", \"Postal_Code\",\n        \"Date_of_Birth\", \"Gender\", \"Marital_Status\", \"Occupation\", \"Income_Level\", \"Customer_Segment\"\n    )\n    selected_claims_df = claims_df.select(\n        \"Claim_ID\", \"Policy_ID\", \"Claim_Date\", \"Claim_Type\", \"Claim_Status\", \"Claim_Amount\", \"Claim_Payout\"\n    )\n\n# COMMAND ----------\n\n    # Step 3: Data Integration\n    logger.info(\"Joining demographics and policy data on Customer_ID...\")\n    joined_df = selected_demographics_df.join(policy_df, \"Customer_ID\").join(selected_claims_df, \"Policy_ID\")\n\n# COMMAND ----------\n\n    # Step 4: Data Aggregation\n    logger.info(\"Aggregating claims data to calculate metrics...\")\n    aggregated_df = joined_df.groupBy(\"Customer_ID\").agg(\n        F.count(\"Claim_ID\").alias(\"Total_Claims\"),\n        F.countDistinct(\"Policy_ID\").alias(\"Policy_Count\"),\n        F.max(\"Claim_Date\").alias(\"Recent_Claim_Date\"),\n        F.avg(\"Claim_Amount\").alias(\"Average_Claim_Amount\"),\n        F.first(\"Date_of_Birth\").alias(\"Date_of_Birth\"),  # Ensure Date_of_Birth is available for Age calculation\n        F.first(\"Total_Premium_Paid\").alias(\"Total_Premium_Paid\")  # Ensure Total_Premium_Paid is available\n    )\n\n# COMMAND ----------\n\n    # Step 5: Custom Calculations\n    logger.info(\"Performing custom calculations...\")\n    final_df = aggregated_df.withColumn(\"Age\", F.datediff(F.current_date(), F.col(\"Date_of_Birth\")) / 365) \\\n        .withColumn(\"Claim_To_Premium_Ratio\", F.when(F.col(\"Total_Premium_Paid\") != 0, F.col(\"Average_Claim_Amount\") / F.col(\"Total_Premium_Paid\")).otherwise(0)) \\\n        .withColumn(\"Claims_Per_Policy\", F.when(F.col(\"Policy_Count\") != 0, F.col(\"Total_Claims\") / F.col(\"Policy_Count\")).otherwise(0)) \\\n        .withColumn(\"Retention_Rate\", F.lit(0.85)) \\\n        .withColumn(\"Cross_Sell_Opportunities\", F.lit(\"Multi-Policy Discount, Home Coverage Add-on\")) \\\n        .withColumn(\"Upsell_Potential\", F.lit(\"Premium Vehicle Coverage\"))\n\n# COMMAND ----------\n\n    # Step 6: Comprehensive Data Joining\n    logger.info(\"Integrating data from all sources...\")\n    customer_360_df = final_df.join(scores_df, \"Customer_ID\").join(aiml_insights_df, \"Customer_ID\")\n\n# COMMAND ----------\n\n    # Step 7: Output Data\n    logger.info(\"Writing the consolidated view of customer data to Delta format...\")\n    customer_360_df.write.format(\"delta\").mode(\"overwrite\").save(\"/mnt/dataeconomy-8ixr/62446/output/Customer_360\")\n\n    logger.info(\"ETL process completed successfully.\")\n\nexcept Exception as e:\n    logger.error(f\"An error occurred during the ETL process: {e}\")\n    raise\n"
            ]
        }
    ],
    "metadata": {
        "kernelspec": {
            "display_name": "Python 3",
            "language": "python",
            "name": "python3"
        },
        "language_info": {
            "codemirror_mode": {
                "name": "ipython",
                "version": 3
            },
            "file_extension": ".py",
            "mimetype": "text/x-python",
            "name": "python",
            "nbconvert_exporter": "python",
            "pygments_lexer": "ipython3",
            "version": "3.x"
        }
    },
    "nbformat": 4,
    "nbformat_minor": 5
}