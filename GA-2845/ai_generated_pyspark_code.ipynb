{
    "cells": [
        {
            "cell_type": "code",
            "execution_count": null,
            "metadata": {},
            "outputs": [],
            "source": [
                "# Databricks notebook source\n# COMMAND ----------\nimport logging\nfrom pyspark.sql import SparkSession\nfrom pyspark.sql.functions import col, count, max, avg, datediff, current_date, when, lit, broadcast\n\n# Configure logging\nlogging.basicConfig(level=logging.INFO)\nlogger = logging.getLogger(__name__)\n\n# COMMAND ----------\ndef load_data():\n    \"\"\"Load data from Unity Catalog tables.\"\"\"\n    try:\n        policy_df = spark.table(\"catalog.source_db.policy\")\n        claims_df = spark.table(\"catalog.source_db.claims\")\n        demographics_df = spark.table(\"catalog.source_db.demographics\")\n        scores_df = spark.table(\"catalog.source_db.scores\")\n        aiml_insights_df = spark.table(\"catalog.source_db.aiml_insights\")\n        logger.info(\"Data loaded successfully from Unity Catalog tables.\")\n        return policy_df, claims_df, demographics_df, scores_df, aiml_insights_df\n    except Exception as e:\n        logger.error(f\"Error loading data from Unity Catalog tables: {e}\")\n        raise\n\n# COMMAND ----------\ndef select_and_filter_data(demographics_df):\n    \"\"\"Select relevant fields from demographics data.\"\"\"\n    try:\n        selected_demographics_df = demographics_df.select(\n            \"Customer_ID\", \"Customer_Name\", \"Email\", \"Phone_Number\", \"Address\", \"City\", \"State\", \n            \"Postal_Code\", \"Date_of_Birth\", \"Gender\", \"Marital_Status\", \"Occupation\", \n            \"Income_Level\", \"Customer_Segment\"\n        )\n        logger.info(\"Demographics data selected successfully.\")\n        return selected_demographics_df\n    except Exception as e:\n        logger.error(f\"Error selecting demographics data: {e}\")\n        raise\n\n# COMMAND ----------\ndef integrate_data(selected_demographics_df, policy_df, claims_df):\n    \"\"\"Integrate datasets based on key identifiers.\"\"\"\n    try:\n        joined_df = selected_demographics_df.join(\n            policy_df, selected_demographics_df.Customer_ID == policy_df.customer_id, \"inner\"\n        ).join(\n            claims_df, policy_df.policy_id == claims_df.Policy_ID, \"inner\"\n        )\n        logger.info(\"Data integration completed successfully.\")\n        return joined_df\n    except Exception as e:\n        logger.error(f\"Error during data integration: {e}\")\n        raise\n\n# COMMAND ----------\ndef aggregate_and_summarize_data(joined_df):\n    \"\"\"Compute aggregate metrics.\"\"\"\n    try:\n        summarized_df = joined_df.groupBy(\"Customer_ID\").agg(\n            count(\"Claim_ID\").alias(\"Total_Claims\"),\n            count(\"policy_id\").alias(\"Policy_Count\"),\n            max(\"Claim_Date\").alias(\"Recent_Claim_Date\"),\n            avg(\"Claim_Amount\").alias(\"Average_Claim_Amount\")\n        )\n        logger.info(\"Data aggregation and summarization completed successfully.\")\n        return summarized_df\n    except Exception as e:\n        logger.error(f\"Error during data aggregation and summarization: {e}\")\n        raise\n\n# COMMAND ----------\ndef apply_custom_calculations(summarized_df):\n    \"\"\"Derive additional metrics.\"\"\"\n    try:\n        final_df = summarized_df.withColumn(\n            \"Age\", datediff(current_date(), col(\"Date_of_Birth\")) / 365\n        ).withColumn(\n            \"Claim_To_Premium_Ratio\", when(col(\"total_premium_paid\") != 0, col(\"Average_Claim_Amount\") / col(\"total_premium_paid\")).otherwise(0)\n        ).withColumn(\n            \"Claims_Per_Policy\", when(col(\"Policy_Count\") != 0, col(\"Total_Claims\") / col(\"Policy_Count\")).otherwise(0)\n        ).withColumn(\n            \"Retention_Rate\", lit(0.85)\n        ).withColumn(\n            \"Cross_Sell_Opportunities\", lit(\"Multi-Policy Discount, Home Coverage Add-on\")\n        ).withColumn(\n            \"Upsell_Potential\", lit(\"Premium Vehicle Coverage\")\n        )\n        logger.info(\"Custom calculations applied successfully.\")\n        return final_df\n    except Exception as e:\n        logger.error(f\"Error during custom calculations: {e}\")\n        raise\n\n# COMMAND ----------\ndef consolidate_data(final_df, aiml_insights_df, scores_df):\n    \"\"\"Integrate insights from AI/ML models and risk scores.\"\"\"\n    try:\n        consolidated_df = final_df.join(\n            broadcast(aiml_insights_df), \"Customer_ID\", \"inner\"\n        ).join(\n            broadcast(scores_df), \"Customer_ID\", \"inner\"\n        )\n        logger.info(\"Comprehensive data consolidation completed successfully.\")\n        return consolidated_df\n    except Exception as e:\n        logger.error(f\"Error during data consolidation: {e}\")\n        raise\n\n# COMMAND ----------\ndef write_output(consolidated_df):\n    \"\"\"Write the final DataFrame to a Unity Catalog table.\"\"\"\n    try:\n        consolidated_df.write.format(\"delta\").mode(\"overwrite\").saveAsTable(\"catalog.target_db.customer_360\")\n        logger.info(\"Customer 360 data written successfully to Unity Catalog target table.\")\n    except Exception as e:\n        logger.error(f\"Error writing Customer 360 data to Unity Catalog target table: {e}\")\n        raise\n\n# COMMAND ----------\ndef main():\n    policy_df, claims_df, demographics_df, scores_df, aiml_insights_df = load_data()\n    selected_demographics_df = select_and_filter_data(demographics_df)\n    joined_df = integrate_data(selected_demographics_df, policy_df, claims_df)\n    summarized_df = aggregate_and_summarize_data(joined_df)\n    final_df = apply_custom_calculations(summarized_df)\n    consolidated_df = consolidate_data(final_df, aiml_insights_df, scores_df)\n    write_output(consolidated_df)\n\nif __name__ == \"__main__\":\n    main()\n"
            ]
        }
    ],
    "metadata": {
        "kernelspec": {
            "display_name": "Python 3",
            "language": "python",
            "name": "python3"
        },
        "language_info": {
            "codemirror_mode": {
                "name": "ipython",
                "version": 3
            },
            "file_extension": ".py",
            "mimetype": "text/x-python",
            "name": "python",
            "nbconvert_exporter": "python",
            "pygments_lexer": "ipython3",
            "version": "3.x"
        }
    },
    "nbformat": 4,
    "nbformat_minor": 5
}