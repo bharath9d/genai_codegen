{
    "cells": [
        {
            "cell_type": "code",
            "execution_count": null,
            "metadata": {},
            "outputs": [],
            "source": [
                "# Databricks notebook source\n# MAGIC %md\n# MAGIC # ETL Process for Superstore Sales Data\n# MAGIC This notebook performs an ETL process on Superstore sales data using PySpark.\n\n# COMMAND ----------\n\nimport logging\nfrom pyspark.sql import functions as F\nfrom pyspark.sql.types import DateType\n\n# Configure logging\nlogging.basicConfig(level=logging.INFO)\nlogger = logging.getLogger(__name__)\n\n# COMMAND ----------\n\ntry:\n    # Load data from Unity Catalog tables\n    orders_central_df = spark.table(\"catalog.db.orders_central\")\n    orders_west_df = spark.table(\"catalog.db.orders_west\")\n    orders_east_df = spark.table(\"catalog.db.orders_east\")\n    orders_south_df = spark.table(\"catalog.db.orders_south\")\n    quota_df = spark.table(\"catalog.db.quota\")\n    returns_df = spark.table(\"catalog.db.returns\")\n\n# COMMAND ----------\n\n    # Data Cleansing and Standardization\n    def cleanse_orders(df):\n        return (df\n                .withColumnRenamed(\"Discounts\", \"Discount\")\n                .withColumnRenamed(\"Product\", \"Product Name\")\n                .filter(df[\"Order ID\"].isNotNull())\n                .withColumn(\"Discount\", df[\"Discount\"].cast(\"string\"))\n                .withColumn(\"Sales\", F.regexp_replace(df[\"Sales\"], '[^0-9.]', '').cast(\"double\"))\n                .withColumn(\"Order Date\", F.to_date(F.concat_ws(\"/\", df[\"Order Day\"], df[\"Order Month\"], df[\"Order Year\"]), \"dd/MM/yyyy\"))\n                .withColumn(\"Ship Date\", F.to_date(F.concat_ws(\"/\", df[\"Ship Day\"], df[\"Ship Month\"], df[\"Ship Year\"]), \"dd/MM/yyyy\"))\n                .drop(\"Order Day\", \"Order Month\", \"Order Year\", \"Ship Day\", \"Ship Month\", \"Ship Year\"))\n\n    orders_central_df = cleanse_orders(orders_central_df)\n    orders_west_df = cleanse_orders(orders_west_df)\n    orders_east_df = cleanse_orders(orders_east_df)\n    orders_south_df = cleanse_orders(orders_south_df)\n\n# COMMAND ----------\n\n    # Data Integration\n    all_orders_df = orders_central_df.union(orders_west_df).union(orders_east_df).union(orders_south_df)\n\n# COMMAND ----------\n\n    # Join with returns data\n    orders_returns_df = all_orders_df.join(returns_df, [\"Order ID\", \"Product ID\"], \"right_outer\")\n\n# COMMAND ----------\n\n    # Add custom calculations\n    orders_returns_df = (orders_returns_df\n                         .withColumn(\"Returned?\", F.when(F.col(\"Return Reason\").isNotNull(), \"Yes\").otherwise(\"No\"))\n                         .withColumn(\"Days to Ship\", F.datediff(F.col(\"Ship Date\"), F.col(\"Order Date\")))\n                         .withColumn(\"Discount\", F.coalesce(F.col(\"Discount\"), F.lit(0)))\n                         .withColumn(\"Year of Sale\", F.year(F.col(\"Order Date\"))))\n\n# COMMAND ----------\n\n    # Data Restructuring: Unpivot quota data\n    quota_unpivoted_df = quota_df.selectExpr(\"Region\", \"stack(4, '2015', `2015`, '2016', `2016`, '2017', `2017`, '2018', `2018`) as (Year, Quota)\")\n\n# COMMAND ----------\n\n    # Aggregations and Calculations\n    aggregated_sales_df = (orders_returns_df\n                           .groupBy(\"Region\", \"Year of Sale\")\n                           .agg(F.sum(\"Profit\").alias(\"Total Profit\"),\n                                F.sum(\"Sales\").alias(\"Total Sales\"),\n                                F.sum(\"Quantity\").alias(\"Total Quantity\"),\n                                F.avg(\"Discount\").alias(\"Average Discount\")))\n\n# COMMAND ----------\n\n    # Write to Unity Catalog target tables\n    aggregated_sales_df.write.format(\"delta\").mode(\"overwrite\").saveAsTable(\"catalog.target_db.annual_regional_performance\")\n    orders_returns_df.write.format(\"delta\").mode(\"overwrite\").saveAsTable(\"catalog.target_db.superstore_sales\")\n\n    logger.info(\"ETL process completed successfully.\")\n\nexcept Exception as e:\n    logger.error(\"An error occurred during the ETL process\", exc_info=True)\n"
            ]
        }
    ],
    "metadata": {
        "kernelspec": {
            "display_name": "Python 3",
            "language": "python",
            "name": "python3"
        },
        "language_info": {
            "codemirror_mode": {
                "name": "ipython",
                "version": 3
            },
            "file_extension": ".py",
            "mimetype": "text/x-python",
            "name": "python",
            "nbconvert_exporter": "python",
            "pygments_lexer": "ipython3",
            "version": "3.x"
        }
    },
    "nbformat": 4,
    "nbformat_minor": 5
}