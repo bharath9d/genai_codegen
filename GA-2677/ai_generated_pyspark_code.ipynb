{
    "cells": [
        {
            "cell_type": "code",
            "execution_count": null,
            "metadata": {},
            "outputs": [],
            "source": [
                "# Databricks notebook source\n# MAGIC %md\n# MAGIC # ETL Process for Orders Data\n# MAGIC This notebook performs an ETL process on orders data from Unity Catalog tables, including data loading, cleaning, transformation, and saving the results back to Unity Catalog.\n\n# COMMAND ----------\n\nimport logging\nfrom pyspark.sql import functions as F\nfrom pyspark.sql.types import IntegerType, DateType\n\n# Configure logging\nlogging.basicConfig(level=logging.INFO)\nlogger = logging.getLogger(__name__)\n\n# COMMAND ----------\n\ntry:\n    # Load data from Unity Catalog tables\n    logger.info(\"Loading data from Unity Catalog tables...\")\n    orders_central = spark.table(\"genai_demo.citi.orders_central\").withColumn(\"Region\", F.lit(\"Central\"))\n    orders_east = spark.table(\"genai_demo.citi.orders_east\").withColumn(\"Region\", F.lit(\"East\"))\n    orders_south_2015 = spark.table(\"genai_demo.citi.orders_south_2015\").withColumn(\"Region\", F.lit(\"South\"))\n    orders_south_2016 = spark.table(\"genai_demo.citi.orders_south_2016\").withColumn(\"Region\", F.lit(\"South\"))\n    orders_south_2017 = spark.table(\"genai_demo.citi.orders_south_2017\").withColumn(\"Region\", F.lit(\"South\"))\n    orders_south_2018 = spark.table(\"genai_demo.citi.orders_south_2018\").withColumn(\"Region\", F.lit(\"South\"))\n    orders_west = spark.table(\"genai_demo.citi.orders_west\").withColumn(\"Region\", F.lit(\"West\"))\n    quota = spark.table(\"genai_demo.citi.quota\")\n    returns = spark.table(\"genai_demo.citi.returns\")\n\n# COMMAND ----------\n\n    # Standardize Date Fields\n    def standardize_dates(df):\n        return (df\n                .withColumn(\"Order Date\", F.concat_ws(\"-\", F.col(\"Order Year\"), F.col(\"Order Month\"), F.col(\"Order Day\")).cast(DateType()))\n                .withColumn(\"Ship Date\", F.concat_ws(\"-\", F.col(\"Ship Year\"), F.col(\"Ship Month\"), F.col(\"Ship Day\")).cast(DateType()))\n                .drop(\"Order Year\", \"Order Month\", \"Order Day\", \"Ship Year\", \"Ship Month\", \"Ship Day\"))\n\n    logger.info(\"Standardizing date fields...\")\n    orders_central = standardize_dates(orders_central)\n    orders_east = standardize_dates(orders_east)\n    orders_south_2015 = standardize_dates(orders_south_2015)\n    orders_south_2016 = standardize_dates(orders_south_2016)\n    orders_south_2017 = standardize_dates(orders_south_2017)\n    orders_south_2018 = standardize_dates(orders_south_2018)\n    orders_west = standardize_dates(orders_west)\n\n# COMMAND ----------\n\n    # Data Cleaning\n    def clean_data(df):\n        return (df\n                .filter(F.col(\"Order ID\").isNotNull())\n                .withColumn(\"Discount\", F.when(F.col(\"Discount\").isNull(), 0).otherwise(F.col(\"Discount\")))\n                .withColumn(\"Sales\", F.regexp_replace(F.col(\"Sales\"), \"[^0-9.]\", \"\").cast(\"double\")))\n\n    logger.info(\"Cleaning data...\")\n    orders_central = clean_data(orders_central)\n    orders_east = clean_data(orders_east)\n    orders_south_2015 = clean_data(orders_south_2015)\n    orders_south_2016 = clean_data(orders_south_2016)\n    orders_south_2017 = clean_data(orders_south_2017)\n    orders_south_2018 = clean_data(orders_south_2018)\n    orders_west = clean_data(orders_west)\n\n# COMMAND ----------\n\n    # Combine Regional Datasets\n    logger.info(\"Combining regional datasets...\")\n    all_orders = orders_central.union(orders_east).union(orders_south_2015).union(orders_south_2016).union(orders_south_2017).union(orders_south_2018).union(orders_west)\n\n# COMMAND ----------\n\n    # Calculated Fields\n    logger.info(\"Adding calculated fields...\")\n    all_orders = (all_orders\n                  .withColumn(\"Days to Ship\", F.datediff(F.col(\"Ship Date\"), F.col(\"Order Date\")))\n                  .withColumn(\"Returned?\", F.when(F.col(\"Return Reason\").isNotNull(), \"Yes\").otherwise(\"No\"))\n                  .withColumn(\"Year of Sale\", F.year(F.col(\"Order Date\"))))\n\n# COMMAND ----------\n\n    # Exclude Specific Discounts\n    logger.info(\"Excluding specific discounts...\")\n    all_orders = all_orders.filter(~((F.col(\"Discount\") >= 17) & (F.col(\"Discount\") <= 18)))\n\n# COMMAND ----------\n\n    # Pivot Quota Data\n    logger.info(\"Pivoting quota data...\")\n    quota_unpivoted = quota.selectExpr(\"Region\", \"stack(4, '2015', `2015`, '2016', `2016`, '2017', `2017`, '2018', `2018`) as (Year, Quota)\")\n\n# COMMAND ----------\n\n    # Join Orders with Returns\n    logger.info(\"Joining orders with returns...\")\n    all_orders = all_orders.join(returns, [\"Order ID\", \"Product ID\"], \"left\")\n\n# COMMAND ----------\n\n    # Aggregate Sales Metrics\n    logger.info(\"Aggregating sales metrics...\")\n    annual_performance = (all_orders\n                          .groupBy(\"Region\", \"Year of Sale\")\n                          .agg(F.sum(\"Profit\").alias(\"Total Profit\"),\n                               F.sum(\"Sales\").alias(\"Total Sales\"),\n                               F.sum(\"Quantity\").alias(\"Total Quantity\"),\n                               F.avg(\"Discount\").alias(\"Average Discount\")))\n\n# COMMAND ----------\n\n    # Save the transformed data back to Unity Catalog\n    logger.info(\"Saving transformed data to Unity Catalog...\")\n    all_orders.write.format(\"delta\").mode(\"overwrite\").saveAsTable(\"genai_demo.citi.all_orders_transformed\")\n    annual_performance.write.format(\"delta\").mode(\"overwrite\").saveAsTable(\"genai_demo.citi.annual_performance\")\n\n    logger.info(\"ETL process completed successfully.\")\n\nexcept Exception as e:\n    logger.error(\"An error occurred during the ETL process\", exc_info=True)\n"
            ]
        }
    ],
    "metadata": {
        "kernelspec": {
            "display_name": "Python 3",
            "language": "python",
            "name": "python3"
        },
        "language_info": {
            "codemirror_mode": {
                "name": "ipython",
                "version": 3
            },
            "file_extension": ".py",
            "mimetype": "text/x-python",
            "name": "python",
            "nbconvert_exporter": "python",
            "pygments_lexer": "ipython3",
            "version": "3.x"
        }
    },
    "nbformat": 4,
    "nbformat_minor": 5
}