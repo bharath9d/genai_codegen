{
    "cells": [
        {
            "cell_type": "code",
            "execution_count": null,
            "metadata": {},
            "outputs": [],
            "source": [
                "# Databricks notebook source\n# COMMAND ----------\n# Import necessary libraries\nimport logging\nfrom pyspark.sql import functions as F\nfrom pyspark.sql.types import DateType, DoubleType, IntegerType\n\n# Configure logging\nlogging.basicConfig(level=logging.INFO)\nlogger = logging.getLogger(__name__)\n\n# COMMAND ----------\ntry:\n    # Step 1: Data Ingestion from Unity Catalog Tables\n    logger.info(\"Loading data from Unity Catalog tables...\")\n    policy_df = spark.table(\"catalog.source_db.policy_data\")\n    claims_df = spark.table(\"catalog.source_db.claims_data\")\n    demographics_df = spark.table(\"catalog.source_db.demographics_data\")\n    scores_df = spark.table(\"catalog.source_db.scores_data\")\n    aiml_insights_df = spark.table(\"catalog.source_db.aiml_insights_data\")\n\n    # COMMAND ----------\n    # Step 2: Data Selection\n    logger.info(\"Selecting relevant fields from each dataset...\")\n    selected_demographics_df = demographics_df.select(\n        \"Customer_ID\", \"Customer_Name\", \"Email\", \"Phone_Number\", \"Address\", \"City\", \"State\", \"Postal_Code\",\n        F.col(\"Date_of_Birth\").cast(DateType()), \"Gender\", \"Marital_Status\", \"Occupation\", \"Income_Level\", \"Customer_Segment\"\n    )\n\n    selected_claims_df = claims_df.select(\n        \"Claim_ID\", \"Policy_ID\", F.col(\"Claim_Date\").cast(DateType()), \"Claim_Type\", \"Claim_Status\",\n        F.col(\"Claim_Amount\").cast(DoubleType()), F.col(\"Claim_Payout\").cast(DoubleType())\n    )\n\n    selected_policy_df = policy_df.select(\n        \"policy_id\", \"customer_id\", \"policy_type\", \"policy_status\",\n        F.col(\"policy_start_date\").cast(DateType()), F.col(\"policy_end_date\").cast(DateType()),\n        F.col(\"policy_term\").cast(IntegerType()), F.col(\"policy_premium\").cast(DoubleType()),\n        F.col(\"total_premium_paid\").cast(DoubleType()), \"renewal_status\", \"policy_addons\"\n    )\n\n    # COMMAND ----------\n    # Step 3: Data Integration\n    logger.info(\"Merging datasets based on common identifiers...\")\n    joined_df = selected_demographics_df.join(selected_policy_df, selected_demographics_df.Customer_ID == selected_policy_df.customer_id, \"inner\") \\\n                                        .join(selected_claims_df, selected_policy_df.policy_id == selected_claims_df.Policy_ID, \"inner\")\n\n    # COMMAND ----------\n    # Step 4: Data Aggregation\n    logger.info(\"Computing aggregate metrics...\")\n    aggregated_df = joined_df.groupBy(\"Customer_ID\").agg(\n        F.count(\"Claim_ID\").alias(\"Total_Claims\"),\n        F.countDistinct(\"policy_id\").alias(\"Policy_Count\"),\n        F.max(\"Claim_Date\").alias(\"Recent_Claim_Date\"),\n        F.avg(\"Claim_Amount\").alias(\"Average_Claim_Amount\")\n    )\n\n    # COMMAND ----------\n    # Step 5: Custom Calculations\n    logger.info(\"Implementing custom calculations...\")\n    final_df = aggregated_df.withColumn(\"Age\", F.datediff(F.current_date(), F.to_date(\"Date_of_Birth\")) / 365) \\\n                            .withColumn(\"Claim_To_Premium_Ratio\", F.when(F.col(\"total_premium_paid\") != 0, F.col(\"Claim_Amount\") / F.col(\"total_premium_paid\")).otherwise(0)) \\\n                            .withColumn(\"Claims_Per_Policy\", F.when(F.col(\"Policy_Count\") != 0, F.col(\"Total_Claims\") / F.col(\"Policy_Count\")).otherwise(0)) \\\n                            .withColumn(\"Retention_Rate\", F.lit(0.85)) \\\n                            .withColumn(\"Cross_Sell_Opportunities\", F.lit(\"Multi-Policy Discount, Home Coverage Add-on\")) \\\n                            .withColumn(\"Upsell_Potential\", F.lit(\"Premium Vehicle Coverage\"))\n\n    # COMMAND ----------\n    # Step 6: Output Generation\n    logger.info(\"Writing the final DataFrame to Unity Catalog table...\")\n    final_df.write.format(\"delta\").mode(\"overwrite\").saveAsTable(\"catalog.target_db.customer_360_output\")\n\n    logger.info(\"ETL process completed successfully.\")\n\nexcept Exception as e:\n    logger.error(\"An error occurred during the ETL process\", exc_info=True)\n"
            ]
        }
    ],
    "metadata": {
        "kernelspec": {
            "display_name": "Python 3",
            "language": "python",
            "name": "python3"
        },
        "language_info": {
            "codemirror_mode": {
                "name": "ipython",
                "version": 3
            },
            "file_extension": ".py",
            "mimetype": "text/x-python",
            "name": "python",
            "nbconvert_exporter": "python",
            "pygments_lexer": "ipython3",
            "version": "3.x"
        }
    },
    "nbformat": 4,
    "nbformat_minor": 5
}